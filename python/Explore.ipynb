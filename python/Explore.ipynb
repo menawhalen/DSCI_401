{
 "cells": [
  {
   "cell_type": "markdown",
   "metadata": {
    "id": "TaiH-eBMs5SH"
   },
   "source": [
    "### Colab Note\n",
    "\n",
    "- Adding a New Code Cell Below (Ctrl + M + B)\n",
    "\n",
    "- Adding a New Text Cell Below (Ctrl + M + M)\n"
   ]
  },
  {
   "cell_type": "markdown",
   "metadata": {
    "id": "vnFRKQ7Gnihi"
   },
   "source": [
    "## Sets\n",
    "\n",
    "A **set** is an unordered collection of unique elements in Python.\n",
    "\n",
    "### Membership Test with Sets\n",
    "\n",
    "One of their primary advantages is the ability to perform *membership tests* efficiently, checking if a particular element is present in the set. This is done by using the operator `in`. This is used to test whether an element is part of a set (or any collection like lists or dictionaries)."
   ]
  },
  {
   "cell_type": "code",
   "execution_count": null,
   "metadata": {
    "id": "twrXk1QZpITe"
   },
   "outputs": [],
   "source": [
    "## add new cell below with ctrl+M+B\n",
    "#Useful for membership tests\n",
    "tech_stonks = set(['IBM','AAPL','MSFT'])\n",
    "'IBM' in tech_stonks\n",
    "\n",
    "'FB' in tech_stonks"
   ]
  },
  {
   "cell_type": "markdown",
   "metadata": {
    "id": "AbB-ljYMtr9i"
   },
   "source": [
    "### Duplicate or Elimination\n",
    "\n",
    "- `set()`: Converts a list (or other iterable) to a set, automatically removing any duplicate entries.\n",
    "-`add()`: Adds an element to the set. If the element already exists, the set remains unchanged.\n",
    "- `remove()`: Removes an element from the set. If the element is not found, an error occurs."
   ]
  },
  {
   "cell_type": "code",
   "execution_count": null,
   "metadata": {
    "id": "E9C7RwORqqVB"
   },
   "outputs": [],
   "source": [
    "#Sets are useful for duplicate elimination\n",
    "names = ['Harry','Ron','Hermione','Hagrid','Harry']\n",
    "print(names)\n",
    "unique = set(names)\n",
    "print(unique)\n",
    "unique.add('Harry')\n",
    "print(unique)"
   ]
  },
  {
   "cell_type": "code",
   "execution_count": null,
   "metadata": {
    "id": "t0RKmvXnqvX4"
   },
   "outputs": [],
   "source": [
    "#Other set operations\n",
    "unique.add('Snape')\n",
    "print(unique)\n",
    "unique.remove('Hagrid')\n",
    "print(unique)"
   ]
  },
  {
   "cell_type": "markdown",
   "metadata": {
    "id": "3w58_SE9vQ9L"
   },
   "source": [
    "### Union, Intersection, and Difference\n",
    "- The `|` operator performs a union, which means it combines elements from both sets without duplicates.\n",
    "  - `.union()`: Similar to the `|` operator.\n",
    "  - `.update()`: Adds elements of one set to another in place, modifying the original set.\n",
    "- The `&` operator performs an intersection, returning only the elements that both sets share.\n",
    "- The `-` operator performs a set difference, returning the elements from the first set that do not appear in the second."
   ]
  },
  {
   "cell_type": "code",
   "execution_count": null,
   "metadata": {
    "colab": {
     "base_uri": "https://localhost:8080/"
    },
    "executionInfo": {
     "elapsed": 157,
     "status": "ok",
     "timestamp": 1726693365708,
     "user": {
      "displayName": "Mena Whalen",
      "userId": "13683391233796222202"
     },
     "user_tz": 300
    },
    "id": "fQdH2BnsrXE0",
    "outputId": "b0baa08a-c296-40e6-d545-16b31c3ced57"
   },
   "outputs": [],
   "source": [
    "a1 = set(['Bart','Lisa','Maggie','Marge'])\n",
    "a2 = set(['Bart','Homer','Marge'])\n",
    "#Union\n",
    "print('Union:', a1 | a2)\n",
    "#Intersection\n",
    "print('Interscetion:',a1 & a2)\n",
    "#Set difference\n",
    "print('Set difference:',a1 - a2)\n",
    "print('Set difference:',a2 - a1)"
   ]
  },
  {
   "cell_type": "markdown",
   "metadata": {
    "id": "KP8Yr8_Hnk-D"
   },
   "source": [
    "## Tuples\n",
    "\n",
    "**Definition**: A tuple is a collection of values grouped together, similar to a list.\n",
    "\n",
    "The difference between tuples and lists lies in their *mutability*. A *tuple is immutable*, meaning once it is created, you cannot modify its contents. A list, on the other hand, is mutable and can be changed after creation.\n",
    "\n",
    "You can create a tuple without parentheses, just by separating the values with commas."
   ]
  },
  {
   "cell_type": "code",
   "execution_count": null,
   "metadata": {
    "id": "LpOU73E3wmbD"
   },
   "outputs": [],
   "source": [
    "#Can I create a tuple with only commas.\n",
    "elijah = \"goog\",45, 45\n",
    "print(elijah)"
   ]
  },
  {
   "cell_type": "markdown",
   "metadata": {
    "id": "vYw4mX9Azkaq"
   },
   "source": [
    "### Comparing Tuples and Lists\n",
    "\n",
    "- Lists are mutable: You can change the value of elements in a list after it's created (as shown by changing `test_list[0]`).\n",
    "- Tuples are immutable: Attempting to change `test_tuple[0]` would raise an error, because the contents of a tuple cannot be changed after creation."
   ]
  },
  {
   "cell_type": "code",
   "execution_count": null,
   "metadata": {
    "colab": {
     "base_uri": "https://localhost:8080/",
     "height": 245
    },
    "executionInfo": {
     "elapsed": 372,
     "status": "error",
     "timestamp": 1726693554550,
     "user": {
      "displayName": "Mena Whalen",
      "userId": "13683391233796222202"
     },
     "user_tz": 300
    },
    "id": "4c17thh8wr0P",
    "outputId": "5b0c4114-0f61-412d-cc98-abf680a81f78"
   },
   "outputs": [],
   "source": [
    "test_tuple = (\"greg\",413)\n",
    "test_list = [\"greg\",413]\n",
    "\n",
    "print(test_list[0])\n",
    "print(test_tuple[0])\n",
    "\n",
    "test_list[0] = \"steve\"\n",
    "#This will give an error\n",
    "#test_tuple[0] = \"steve\"\n",
    "\n",
    "#print(test_list[0])\n",
    "#print(test_tuple[0])\n"
   ]
  },
  {
   "cell_type": "markdown",
   "metadata": {
    "id": "o6zLb0wjz3hk"
   },
   "source": [
    "### Tuple Types and Strings\n",
    "\n",
    "String vs. Tuple: If you define a tuple with only one element and forget the trailing comma (as in `(\"GOOG\")`), Python will treat it as a string instead of a tuple. To create a tuple with one element, you must include the trailing comma (`(\"GOOG\",)`)."
   ]
  },
  {
   "cell_type": "code",
   "execution_count": null,
   "metadata": {
    "colab": {
     "base_uri": "https://localhost:8080/"
    },
    "executionInfo": {
     "elapsed": 162,
     "status": "ok",
     "timestamp": 1726338180276,
     "user": {
      "displayName": "Mena Whalen",
      "userId": "13683391233796222202"
     },
     "user_tz": 300
    },
    "id": "82jKv3_dxNq5",
    "outputId": "5d20f1c4-a79c-440c-8aa4-3639553a8fd5"
   },
   "outputs": [],
   "source": [
    "#Example\n",
    "s = ('GOOG',100,490.1)\n",
    "print(s)\n",
    "\n",
    "print(type(s))\n",
    "\n",
    "#Note:\n",
    "#This is a string\n",
    "w = (\"GOOG\")\n",
    "print(type(w))\n",
    "\n",
    "#This is a 1-tuple\n",
    "w = (\"GOOG\",)\n",
    "print(type(w))"
   ]
  },
  {
   "cell_type": "markdown",
   "metadata": {
    "id": "5n9hT9gD0L2Z"
   },
   "source": [
    "### Tuple Use and Packing/Unpacking\n",
    "Tuples are often used to represent **simple records or structures**. Each tuple holds related pieces of information: `contact` represents a help desk, `stock` holds stock information, and `host` contains a web host.\n",
    "\n",
    "You can access individual elements of a tuple using indexing, just like lists. Here, `name`, `shares`, and `price` are assigned the values from the tuple s based on their respective positions."
   ]
  },
  {
   "cell_type": "code",
   "execution_count": null,
   "metadata": {
    "id": "zdJiTF55xSL3"
   },
   "outputs": [],
   "source": [
    "#Tuples are usually used to represent simple records or structures\n",
    "contact = ('Help Desk','help@luc.edu')\n",
    "stock = ('GOOG',100,490.1)\n",
    "host = ('www.python.org',)\n",
    "\n",
    "#A single \"object\" with multiple parts\n",
    "\n",
    "s = ('GOOG', 100, 490.1)\n",
    "#Unpack a tuple\n",
    "name = s[0]\n",
    "shares = s[1]\n",
    "price = s[2]\n",
    "\n",
    "print(name)\n",
    "print(shares)\n",
    "print(price)"
   ]
  },
  {
   "cell_type": "markdown",
   "metadata": {
    "id": "49b1mapG0n0f"
   },
   "source": [
    "Tuple unpacking allows you to assign values from a tuple to multiple variables in one line. In this case, `name`, `shares`, and `price` directly receive values from the tuple `s`."
   ]
  },
  {
   "cell_type": "code",
   "execution_count": null,
   "metadata": {
    "id": "DrmG5LFHx2sk"
   },
   "outputs": [],
   "source": [
    "#Alternatively\n",
    "name,shares,price = s\n",
    "print(name)\n",
    "print(shares)\n",
    "print(price)"
   ]
  },
  {
   "cell_type": "markdown",
   "metadata": {
    "id": "bLdOTq_z00hX"
   },
   "source": [
    "### Immunitible but Create a New One\n",
    "\n",
    "Once a tuple is created, its contents cannot be modified. If you try to change an element in a tuple (e.g., `s[1] = 75`), Python will raise an error.\n",
    "\n",
    "While you cannot modify a tuple in place, you can create a new tuple by combining parts of the original tuple with new values. In this example, a new tuple is created where the second element (`s[1]`) is updated to `75`."
   ]
  },
  {
   "cell_type": "code",
   "execution_count": null,
   "metadata": {
    "id": "i5ljgrQSx656"
   },
   "outputs": [],
   "source": [
    "#tuples contents can't be modified\n",
    "s = ('GOOG', 100, 490.1)\n",
    "#This gives an error\n",
    "s[1] = 75\n"
   ]
  },
  {
   "cell_type": "code",
   "execution_count": null,
   "metadata": {
    "colab": {
     "base_uri": "https://localhost:8080/"
    },
    "executionInfo": {
     "elapsed": 167,
     "status": "ok",
     "timestamp": 1726338321799,
     "user": {
      "displayName": "Mena Whalen",
      "userId": "13683391233796222202"
     },
     "user_tz": 300
    },
    "id": "ma6h3n7oyDID",
    "outputId": "0f0ce5ca-7480-4664-85d4-891dd5013f5c"
   },
   "outputs": [],
   "source": [
    "#But you can make a new tuple!\n",
    "s = (s[0],75,s[2])\n",
    "s"
   ]
  },
  {
   "cell_type": "markdown",
   "metadata": {
    "id": "jjZ0SpFa1HTc"
   },
   "source": [
    "### Packing\n",
    "\n",
    "**Packing**: You can group related values into a tuple (this is called packing). In this `case`, `name`, `shares`, and `price` are packed together into the tuple `s`"
   ]
  },
  {
   "cell_type": "code",
   "execution_count": null,
   "metadata": {
    "id": "I2xdX4RByH82"
   },
   "outputs": [],
   "source": [
    "#packing tuples\n",
    "#Tuples are focused more on packing related items together into a single \"entity\"\n",
    "\n",
    "s = (name, shares,price)\n",
    "s"
   ]
  },
  {
   "cell_type": "markdown",
   "metadata": {
    "id": "6iucs8Wynopg"
   },
   "source": [
    "## Dictionaries\n",
    "\n",
    "**Definition**: A dictionary is a collection of values, where each value is stored with a unique key. The key acts as an identifier for accessing the associated value. Dictionaries are useful when you have many values that need to be modified or manipulated, and where each value is associated with a unique key.\n",
    "\n",
    "**Declaration**: Dictionaries can be created using either the `dict()` keyword or curly braces `{}`."
   ]
  },
  {
   "cell_type": "code",
   "execution_count": null,
   "metadata": {
    "colab": {
     "base_uri": "https://localhost:8080/"
    },
    "executionInfo": {
     "elapsed": 136,
     "status": "ok",
     "timestamp": 1726693731970,
     "user": {
      "displayName": "Mena Whalen",
      "userId": "13683391233796222202"
     },
     "user_tz": 300
    },
    "id": "25rKFkEr1vTT",
    "outputId": "5be2644f-47ea-452d-9eee-6d6d8db3a8ab"
   },
   "outputs": [],
   "source": [
    "#two ways to decalre a dictionary.\n",
    "characters = dict()\n",
    "characters = {}\n",
    "\n",
    "#Keys serve as filed names\n",
    "s = {'first':'Harry', 'last':'Potter'}\n",
    "s"
   ]
  },
  {
   "cell_type": "markdown",
   "metadata": {
    "id": "d26zNVYh6syL"
   },
   "source": [
    "Each key in a dictionary serves as a field name, and you can use these keys to access corresponding values."
   ]
  },
  {
   "cell_type": "code",
   "execution_count": null,
   "metadata": {
    "colab": {
     "base_uri": "https://localhost:8080/"
    },
    "executionInfo": {
     "elapsed": 149,
     "status": "ok",
     "timestamp": 1726693734489,
     "user": {
      "displayName": "Mena Whalen",
      "userId": "13683391233796222202"
     },
     "user_tz": 300
    },
    "id": "w8RCdrTT14iU",
    "outputId": "f6340472-ce20-4e0a-dd27-d5d35901f917"
   },
   "outputs": [],
   "source": [
    "#To get a value, use the key name.\n",
    "print(s['first'])\n",
    "\n",
    "print(s['last'])"
   ]
  },
  {
   "cell_type": "markdown",
   "metadata": {
    "id": "uQ8Ltmhj6wt9"
   },
   "source": [
    "**Values Cannot Be Referenced by Index**\n",
    "\n",
    "\n",
    "Unlike lists or tuples, you cannot access values in a dictionary using numerical indices. Keys, not indices, are used for retrieval."
   ]
  },
  {
   "cell_type": "code",
   "execution_count": null,
   "metadata": {
    "colab": {
     "base_uri": "https://localhost:8080/",
     "height": 158
    },
    "executionInfo": {
     "elapsed": 250,
     "status": "error",
     "timestamp": 1726693736677,
     "user": {
      "displayName": "Mena Whalen",
      "userId": "13683391233796222202"
     },
     "user_tz": 300
    },
    "id": "CqbooEZO19Td",
    "outputId": "d4b5b73a-951b-4162-87a9-e460cf39a00c"
   },
   "outputs": [],
   "source": [
    "#Values cannot be referenced as an index value\n",
    "s[1]"
   ]
  },
  {
   "cell_type": "markdown",
   "metadata": {
    "id": "yMYXzRNc2PrB"
   },
   "source": [
    "### Adding and Modifying Values\n",
    "\n",
    "You can add new key-value pairs or modify existing ones by simply assigning a value to a key."
   ]
  },
  {
   "cell_type": "markdown",
   "metadata": {
    "colab": {
     "base_uri": "https://localhost:8080/"
    },
    "executionInfo": {
     "elapsed": 154,
     "status": "ok",
     "timestamp": 1726693738453,
     "user": {
      "displayName": "Mena Whalen",
      "userId": "13683391233796222202"
     },
     "user_tz": 300
    },
    "id": "Ww67KZ4G2EHJ",
    "outputId": "199c00ba-1fd4-4fde-e57e-f6bb4543d8ba"
   },
   "source": [
    "#Adding/modifying values\n",
    "s['first'] = 'The chosen one'\n",
    "s['dob'] = 'July 31'\n",
    "s['dad name'] = \"james\"\n",
    "s['mom name'] = \"lily\"\n",
    "s"
   ]
  },
  {
   "cell_type": "markdown",
   "metadata": {
    "id": "ad0K4hfL2NEo"
   },
   "source": [
    "### Deleting Values\n",
    "\n",
    "You can remove a key-value pair from a dictionary using the `del` statement or the `pop()` method to delete by the key."
   ]
  },
  {
   "cell_type": "code",
   "execution_count": null,
   "metadata": {
    "colab": {
     "base_uri": "https://localhost:8080/"
    },
    "executionInfo": {
     "elapsed": 190,
     "status": "ok",
     "timestamp": 1726693741157,
     "user": {
      "displayName": "Mena Whalen",
      "userId": "13683391233796222202"
     },
     "user_tz": 300
    },
    "id": "cBKLs-io2Vo6",
    "outputId": "76b0bb96-0ab4-40e3-fb39-bbee99186a46"
   },
   "outputs": [],
   "source": [
    "del s['dob']\n",
    "print(s)\n",
    "\n",
    "#deleting a key and returning it's value\n",
    "#It \"pops\" out of the dictionary.\n",
    "print(s.pop('first'))\n",
    "print(s)"
   ]
  },
  {
   "cell_type": "markdown",
   "metadata": {
    "id": "E6DWboyL2g4n"
   },
   "source": [
    "### Keys\n",
    "\n",
    "Keys Can Be Strings, Integers, or Tuples (Composite Keys) - Dictionary keys can be of different types, such as strings, integers, or even tuples."
   ]
  },
  {
   "cell_type": "code",
   "execution_count": null,
   "metadata": {
    "id": "CJGnkejz2ggb"
   },
   "outputs": [],
   "source": [
    "#Keys can be strings, integers, tuples (composite keys)\n",
    "#Examples:\n",
    "holidays = { (1,1): 'New Years', (3,14): 'Pi Day', (7,11): 'Slurpee Day'}\n",
    "print(holidays)\n",
    "\n",
    "holidays = {(1,1): [\"New Years\",\"Elijah\"], (7,11): [\"Slurpee Day\",\"Greg\"]}\n",
    "holidays[1,1][0]\n",
    "\n",
    "\n",
    "holidays = {(1,1): {\"steve\":[\"greg\",\"elijah\"]}, (7,11): [\"Slurpee Day\",\"Greg\"]}\n",
    "holidays[1,1][\"steve\"][0]"
   ]
  },
  {
   "cell_type": "markdown",
   "metadata": {
    "id": "MeADD5lL2wnk"
   },
   "source": [
    "### Looping through a dictionary\n",
    "\n",
    "You can loop through a dictionary, where the loop variable represents the keys."
   ]
  },
  {
   "cell_type": "code",
   "execution_count": null,
   "metadata": {
    "id": "TWC_9BvC20qh"
   },
   "outputs": [],
   "source": [
    "#The loop variable is the key\n",
    "employee = {'first_name':'Harry', 'last_name':'Potter', 'dob':\"July 31\", \"pet\":'Hedwig','house':'Gryffindor',\"school\":'Hogwarts','sport':\"Quidditch\"}\n",
    "for i in employee:\n",
    "  print(i)"
   ]
  },
  {
   "cell_type": "code",
   "execution_count": null,
   "metadata": {
    "id": "51LCuuH-25gY"
   },
   "outputs": [],
   "source": [
    "#.keys()\n",
    "employee.keys()\n"
   ]
  },
  {
   "cell_type": "markdown",
   "metadata": {
    "id": "zuPzfWsJ7s5R"
   },
   "source": [
    "**Membership Testing**: You can check whether a particular key exists in a dictionary using the in keyword."
   ]
  },
  {
   "cell_type": "code",
   "execution_count": null,
   "metadata": {
    "id": "FjOtMN6g262s"
   },
   "outputs": [],
   "source": [
    "#Check to see if a key is in a dictionary\n",
    "'best_friend' in employee.keys()\n"
   ]
  },
  {
   "cell_type": "markdown",
   "metadata": {
    "id": "SaT_Ep6l7Zme"
   },
   "source": [
    "You can also print the values associated with each key during a loop.\n",
    "- `.keys()`: Returns all the keys in the dictionary.\n",
    "- `.values()`: Returns all the values in the dictionary.\n"
   ]
  },
  {
   "cell_type": "code",
   "execution_count": null,
   "metadata": {
    "id": "69wDtE413Eef"
   },
   "outputs": [],
   "source": [
    "employee = {'first_name':'Harry', 'last_name':'Potter', 'bod':\"July 31\", \"pet\":'Hedwig','house':'Gryffindor',\"school\":'Hogwarts','sport':\"Quidditch\"}\n",
    "for i in employee:\n",
    "  print(employee[i])\n",
    "\n",
    "#This is the same thing.\n",
    "for i in employee.keys():\n",
    "  print(employee[i])"
   ]
  },
  {
   "cell_type": "code",
   "execution_count": null,
   "metadata": {
    "id": "HkqGgig23OaG"
   },
   "outputs": [],
   "source": [
    "#Retrieve the values in a dictionary\n",
    "employee.values()\n",
    "\n",
    "for i in employee.values():\n",
    "  print(i)"
   ]
  },
  {
   "cell_type": "markdown",
   "metadata": {
    "id": "olW_ZZfz3bo8"
   },
   "source": [
    "### Other Commands\n",
    "Here are some useful commands for working with dictionaries:\n",
    "\n",
    "- `len(d)`: Returns the number of key-value pairs in the dictionary.\n",
    "- `clear()`: Removes all key-value pairs from the dictionary.\n",
    "- `copy()`: Creates a shallow copy of the dictionary.\n",
    "- `items()`: Returns a view object that displays the dictionary’s key-value pairs as tuples.\n",
    "- `popitem()`: Removes and returns the last inserted key-value pair.\n",
    "- `get()`: Returns the value for the given key (an alternative to using `d[key]`)."
   ]
  },
  {
   "cell_type": "code",
   "execution_count": null,
   "metadata": {
    "id": "ALzA3M5g4JTw"
   },
   "outputs": [],
   "source": [
    "\n",
    "#len command\n",
    "#returns the number of key-value pairs\n",
    "len(employee)"
   ]
  },
  {
   "cell_type": "code",
   "execution_count": null,
   "metadata": {
    "id": "_jbfW10z4PsQ"
   },
   "outputs": [],
   "source": [
    "d = {'one':'greg','two':'matthews','three':'PhD'}\n",
    "print(d)\n",
    "d.clear()\n",
    "d"
   ]
  },
  {
   "cell_type": "code",
   "execution_count": null,
   "metadata": {
    "id": "ORq4iIp74Noy"
   },
   "outputs": [],
   "source": [
    "d = {'one':'greg','two':'matthews','three':'PhD'}\n",
    "e = d.copy()\n",
    "print(e)\n"
   ]
  },
  {
   "cell_type": "code",
   "execution_count": null,
   "metadata": {
    "id": "9mhYFDsw4LuO"
   },
   "outputs": [],
   "source": [
    "d = {'one':'greg','two':'matthews','three':'PhD'}\n",
    "d.items()"
   ]
  },
  {
   "cell_type": "code",
   "execution_count": null,
   "metadata": {
    "id": "oQ9dHQnj4Xr9"
   },
   "outputs": [],
   "source": [
    "d = {'one':'greg','two':'matthews','three':'PhD'}\n",
    "print(d.pop('one'))\n",
    "print(d)\n",
    "\n",
    "\n",
    "d = {'one':'greg','two':'matthews','three':'PhD'}\n",
    "print(d.popitem())\n",
    "print(d)\n"
   ]
  },
  {
   "cell_type": "code",
   "execution_count": null,
   "metadata": {
    "id": "LV5jvUoA4jOE"
   },
   "outputs": [],
   "source": [
    "d = {'one':'greg','two':'matthews','three':'PhD'}\n",
    "print(d.get('one'))\n",
    "print(d[\"one\"])"
   ]
  },
  {
   "cell_type": "code",
   "execution_count": null,
   "metadata": {
    "id": "U0Crz4xJ4l_w"
   },
   "outputs": [],
   "source": [
    "d = {'first' : 'Hermione', 'last' : 'Granger', 'pet' : \"Crookshanks\"}\n",
    "for key, value in d.items():\n",
    "  print(\"Key =\", key, \", Value =\",value)"
   ]
  },
  {
   "cell_type": "markdown",
   "metadata": {
    "id": "tSH6Xrf14tvJ"
   },
   "source": [
    "### Sorting a Dictionary\n",
    "\n",
    "Dictionaries in Python can be sorted in various ways: by keys, by values, in ascending or descending order, using specific sorting techniques.\n",
    "\n",
    "You can sort the dictionary based on the values using `operator.itemgetter()`. This approach was more commonly used in earlier Python versions but is still widely applicable."
   ]
  },
  {
   "cell_type": "code",
   "execution_count": null,
   "metadata": {
    "id": "cfZ0QPym4x99"
   },
   "outputs": [],
   "source": [
    "d = {\"incantations\":1,\n",
    "     \"There\":1,\n",
    "     'will': 1,\n",
    "     'be': 1,\n",
    "     'no': 1,\n",
    "     'foolish':1,\n",
    "     'wand-waving':1,\n",
    "     'or':1,\n",
    "     'silly':1,\n",
    "     'in':3,\n",
    "     'you': 5}\n",
    "\n",
    "#print(d)\n",
    "import operator\n",
    "#This is how you used to do it.\n",
    "#Sorted by counts\n",
    "sorted_d = dict(sorted(d.items(), key = operator.itemgetter(1)))\n",
    "print(sorted_d)\n",
    "\n",
    "#Sorted by counts descending\n",
    "sorted_d = dict(sorted(d.items(), key = operator.itemgetter(1), reverse = True))\n",
    "print(sorted_d)"
   ]
  },
  {
   "cell_type": "code",
   "execution_count": null,
   "metadata": {
    "colab": {
     "base_uri": "https://localhost:8080/",
     "height": 211
    },
    "executionInfo": {
     "elapsed": 185,
     "status": "error",
     "timestamp": 1726340984626,
     "user": {
      "displayName": "Mena Whalen",
      "userId": "13683391233796222202"
     },
     "user_tz": 300
    },
    "id": "sVS2PBBd403V",
    "outputId": "dacee44c-98ee-4a7e-bfec-10683d5c7569"
   },
   "outputs": [],
   "source": [
    "import operator\n",
    "#Sorted by counts\n",
    "#What will this return?\n",
    "sorted_d = dict(sorted(d.items(), key = operator.itemgetter(0)))\n",
    "print(sorted_d)\n",
    "\n",
    "#How about this?\n",
    "sorted_d = dict(sorted(d.items(), key = operator.itemgetter(0), reverse = True))\n",
    "print(sorted_d)"
   ]
  },
  {
   "cell_type": "markdown",
   "metadata": {
    "id": "58Bsm9nS9PJT"
   },
   "source": [
    "You can also sort by the keys. Sorting by keys can be useful when you need ordered access to dictionary elements based on the key names."
   ]
  },
  {
   "cell_type": "code",
   "execution_count": null,
   "metadata": {
    "id": "NeJuywaz4_WI"
   },
   "outputs": [],
   "source": [
    "#This just sorts the keys and returns only keys\n",
    "print(sorted(d))\n",
    "\n",
    "# This sorts on the keys but returns the keys AND values\n",
    "print(sorted(d.items()))"
   ]
  },
  {
   "cell_type": "markdown",
   "metadata": {
    "id": "C27kntvp9LUy"
   },
   "source": [
    "Instead of using `operator.itemgetter()`, lambda functions provide a more flexible way to specify the sorting logic. You can sort by keys or values depending on the index position."
   ]
  },
  {
   "cell_type": "code",
   "execution_count": null,
   "metadata": {
    "id": "_mibQ-Dl5DWz"
   },
   "outputs": [],
   "source": [
    "#here is how to sort based on the keys\n",
    "#Notice that I'm using [0]\n",
    "#The keys are element 0.  The values are element 1.\n",
    "print(sorted(d.items(), key = lambda kv: kv[0], reverse = True))"
   ]
  },
  {
   "cell_type": "code",
   "execution_count": null,
   "metadata": {
    "id": "Oyx_CEnu5H9G"
   },
   "outputs": [],
   "source": [
    "#Here is how to sort based on the values\n",
    "#Notice that I'm using [1]\n",
    "#The keys are element 0.  The values are element 1.\n",
    "#By default in sorts smallest to largest.\n",
    "#Reverse.....reverses that and sorts largest to smallest.\n",
    "print(sorted(d.items(), key = lambda kv: kv[1], reverse = True))"
   ]
  },
  {
   "cell_type": "markdown",
   "metadata": {
    "id": "xx6Yx4CZ9CNG"
   },
   "source": [
    "\n",
    "**Note on Lambda Functions:** Lambda functions are anonymous functions defined in a single line. In the context of sorting dictionaries, they can target specific elements of key-value pairs, making them highly useful for customization.\n"
   ]
  },
  {
   "cell_type": "code",
   "execution_count": null,
   "metadata": {
    "id": "VHjFSTj65Q0F"
   },
   "outputs": [],
   "source": [
    "#Note on Lambda:\n",
    "greg = lambda x: x.upper()\n",
    "print(greg(\"stats\"))\n",
    "\n",
    "def greg2(x):\n",
    "  return x.upper()"
   ]
  },
  {
   "cell_type": "markdown",
   "metadata": {
    "id": "qmkj2pFH5Zia"
   },
   "source": [
    "### Dictionary of Dictionaries\n",
    "\n",
    "Just like lists of lists in R, Python supports dictionaries within dictionaries, allowing you to store complex data structures with multiple layers of information. This feature is useful when managing hierarchical or nested data.\n",
    "\n",
    "**Example of a Dictionary of Dictionaries:**\n",
    "\n",
    "In this example, characters contains information about three individuals, each represented by their own dictionary that holds attributes like `pet`, `sports`, and `house`."
   ]
  },
  {
   "cell_type": "code",
   "execution_count": null,
   "metadata": {
    "id": "suADXtu_5ceg"
   },
   "outputs": [],
   "source": [
    "#Note: Dictionaries in python are sort of like lists in R.\n",
    "#You can have a list of lists and you can have dictionaries of dictionaries\n",
    "characters = {'Harry Potter':{'pet':\"Hedwig\",'sports':'Quidditch','house':\"Gryffindor\"},\n",
    "              'Hermione Granger':{'pet':\"Crookshanks\",'sports':'Studying','house':\"Gryffindor\"},\n",
    "              'Ron Weasley': {'pet':\"Scabbers\",'sports':'none','house':\"Gryffindor\"}}\n",
    "\n",
    "#Call by the keys\n",
    "print(characters['Harry Potter'])\n",
    "\n",
    "#Call by two levels\n",
    "print(characters['Ron Weasley']['pet'])"
   ]
  },
  {
   "cell_type": "markdown",
   "metadata": {
    "id": "dhEi5JZMnsBt"
   },
   "source": [
    "## Pandas\n",
    "\n",
    "Pandas is a powerful library in Python designed for data manipulation and analysis.\n",
    "\n",
    "### Series\n",
    "\n",
    "A Series is essentially a one-dimensional array-like object that can hold a variety of data types (integers, strings, floats, etc.). It comes with an index, which labels each element in the series.\n",
    "\n",
    "- The values attribute provides access to the data\n",
    "- The index attribute shows the index values"
   ]
  },
  {
   "cell_type": "code",
   "execution_count": 2,
   "metadata": {
    "colab": {
     "base_uri": "https://localhost:8080/",
     "height": 209
    },
    "executionInfo": {
     "elapsed": 851,
     "status": "ok",
     "timestamp": 1726694136536,
     "user": {
      "displayName": "Mena Whalen",
      "userId": "13683391233796222202"
     },
     "user_tz": 300
    },
    "id": "pF76Sh1X-oIT",
    "outputId": "fa2b16dc-7f31-44ac-d689-acfef44de964"
   },
   "outputs": [
    {
     "data": {
      "text/plain": [
       "0    0.25\n",
       "1    0.50\n",
       "2    0.75\n",
       "3    1.00\n",
       "dtype: float64"
      ]
     },
     "execution_count": 2,
     "metadata": {},
     "output_type": "execute_result"
    }
   ],
   "source": [
    "import numpy as np\n",
    "import pandas as pd\n",
    "\n",
    "\n",
    "#Series\n",
    "data = pd.Series([0.25, 0.5, 0.75, 1])\n",
    "\n",
    "data\n"
   ]
  },
  {
   "cell_type": "code",
   "execution_count": null,
   "metadata": {
    "colab": {
     "base_uri": "https://localhost:8080/"
    },
    "executionInfo": {
     "elapsed": 178,
     "status": "ok",
     "timestamp": 1726694145146,
     "user": {
      "displayName": "Mena Whalen",
      "userId": "13683391233796222202"
     },
     "user_tz": 300
    },
    "id": "VS7o2B4qA86a",
    "outputId": "d57c3f1b-7a62-4e43-8248-c2e225196189"
   },
   "outputs": [],
   "source": [
    "data.values"
   ]
  },
  {
   "cell_type": "code",
   "execution_count": null,
   "metadata": {
    "colab": {
     "base_uri": "https://localhost:8080/"
    },
    "executionInfo": {
     "elapsed": 137,
     "status": "ok",
     "timestamp": 1726694153231,
     "user": {
      "displayName": "Mena Whalen",
      "userId": "13683391233796222202"
     },
     "user_tz": 300
    },
    "id": "wVXxnYvAA6z5",
    "outputId": "00a29d25-ed4f-46e6-ca93-903b1a2016a6"
   },
   "outputs": [],
   "source": [
    "data.index"
   ]
  },
  {
   "cell_type": "markdown",
   "metadata": {
    "id": "1vriWZctDZwD"
   },
   "source": [
    "Accessing data by index:"
   ]
  },
  {
   "cell_type": "code",
   "execution_count": null,
   "metadata": {
    "colab": {
     "base_uri": "https://localhost:8080/"
    },
    "executionInfo": {
     "elapsed": 129,
     "status": "ok",
     "timestamp": 1726342248260,
     "user": {
      "displayName": "Mena Whalen",
      "userId": "13683391233796222202"
     },
     "user_tz": 300
    },
    "id": "zMIoqXXh-vT2",
    "outputId": "d130cc8f-b7af-458e-b16f-b83bc2f9f7c9"
   },
   "outputs": [],
   "source": [
    "print(data[1])\n",
    "print(data[1:3])"
   ]
  },
  {
   "cell_type": "markdown",
   "metadata": {
    "id": "MRJomB3SDezU"
   },
   "source": [
    "**Custom Indexing**\n",
    "\n",
    "You can specify custom indices when creating a Series."
   ]
  },
  {
   "cell_type": "code",
   "execution_count": null,
   "metadata": {
    "colab": {
     "base_uri": "https://localhost:8080/"
    },
    "executionInfo": {
     "elapsed": 210,
     "status": "ok",
     "timestamp": 1726342266647,
     "user": {
      "displayName": "Mena Whalen",
      "userId": "13683391233796222202"
     },
     "user_tz": 300
    },
    "id": "9cVP4PxY-0EO",
    "outputId": "521f3ac1-58c9-4af7-a655-a6cb9f073a5b"
   },
   "outputs": [],
   "source": [
    "data = pd.Series([0.25, 0.5, 0.75, 1], index = ['a','b','c','d'])\n",
    "print(data[1])\n",
    "print(data['b'])\n",
    "\n"
   ]
  },
  {
   "cell_type": "markdown",
   "metadata": {
    "id": "jXBqhDGuDmzD"
   },
   "source": [
    "Indices don't need to be consecutive integers. They can be any values, including negative numbers. Your can also repeat indices."
   ]
  },
  {
   "cell_type": "code",
   "execution_count": null,
   "metadata": {
    "colab": {
     "base_uri": "https://localhost:8080/"
    },
    "executionInfo": {
     "elapsed": 202,
     "status": "ok",
     "timestamp": 1726342265039,
     "user": {
      "displayName": "Mena Whalen",
      "userId": "13683391233796222202"
     },
     "user_tz": 300
    },
    "id": "FyiZmiwcBFpq",
    "outputId": "ca734d5c-c0fe-4d9a-a77f-c947fd4026f4"
   },
   "outputs": [],
   "source": [
    "data = pd.Series([0.25, 0.5, 0.75, 1], index = ['b','a','c','d'])\n",
    "print(data[1])\n",
    "print(data['b'])"
   ]
  },
  {
   "cell_type": "code",
   "execution_count": null,
   "metadata": {
    "colab": {
     "base_uri": "https://localhost:8080/"
    },
    "executionInfo": {
     "elapsed": 233,
     "status": "ok",
     "timestamp": 1726694418765,
     "user": {
      "displayName": "Mena Whalen",
      "userId": "13683391233796222202"
     },
     "user_tz": 300
    },
    "id": "qAibz36i-6mc",
    "outputId": "80006aef-2f77-40eb-d084-9d9f9be92a78"
   },
   "outputs": [],
   "source": [
    "#Indices don't need to be contiguous elements\n",
    "data = pd.Series([0.25, 0.5, 0.75, 1], index = [2,3,-6,7])\n",
    "print(data)\n",
    "print(data[-6])\n",
    "\n",
    "#I can repeat indices!  Did you know this????  I did....\n",
    "data = pd.Series([0.25, 0.5, 0.75, 1], index = [2,5,5,'a'])\n",
    "print(data[5])"
   ]
  },
  {
   "cell_type": "code",
   "execution_count": null,
   "metadata": {
    "colab": {
     "base_uri": "https://localhost:8080/"
    },
    "executionInfo": {
     "elapsed": 274,
     "status": "ok",
     "timestamp": 1726694478578,
     "user": {
      "displayName": "Mena Whalen",
      "userId": "13683391233796222202"
     },
     "user_tz": 300
    },
    "id": "zE48hfye-9cr",
    "outputId": "1b98f0c1-1e32-4082-8832-2db37c2456b4"
   },
   "outputs": [],
   "source": [
    "ac_dict = {'Chicago':312,'Houston':713,'Dallas':214, 'NYC':212,'Altanta':404}\n",
    "area_codes = pd.Series(ac_dict)\n",
    "\n",
    "area_codes\n",
    "print(area_codes.index)\n",
    "\n",
    "print(area_codes[0])\n",
    "print(area_codes['Chicago'])\n",
    "print(area_codes['Chicago':'Dallas'])"
   ]
  },
  {
   "cell_type": "code",
   "execution_count": null,
   "metadata": {
    "colab": {
     "base_uri": "https://localhost:8080/",
     "height": 178
    },
    "executionInfo": {
     "elapsed": 218,
     "status": "ok",
     "timestamp": 1726694582195,
     "user": {
      "displayName": "Mena Whalen",
      "userId": "13683391233796222202"
     },
     "user_tz": 300
    },
    "id": "icUvoVZZ_H6F",
    "outputId": "867f1808-d16f-4e12-eaa3-7f7b2b48f76e"
   },
   "outputs": [],
   "source": [
    "#Constructing series\n",
    "pd.Series([2,4,6])\n",
    "\n",
    "#Data can be scalar\n",
    "pd.Series(5, index = [100,200,300])\n",
    "\n",
    "#Data can be a dictionary\n",
    "pd.Series({2:'a',1:'b',3:'c'})\n",
    "\n"
   ]
  },
  {
   "cell_type": "code",
   "execution_count": null,
   "metadata": {
    "colab": {
     "base_uri": "https://localhost:8080/",
     "height": 241
    },
    "executionInfo": {
     "elapsed": 146,
     "status": "ok",
     "timestamp": 1726694649245,
     "user": {
      "displayName": "Mena Whalen",
      "userId": "13683391233796222202"
     },
     "user_tz": 300
    },
    "id": "uievrSex_RyP",
    "outputId": "f977bb11-8dc3-438d-c6d5-8ff84cd6ee4e"
   },
   "outputs": [],
   "source": [
    "#can specify index explicitly\n",
    "pd.Series({2:'a',1:'b',3:'c'}, index = [3,2])\n",
    "pd.Series({2:'a',1:'b',3:'c'}, index = [1,2,2,2,2])"
   ]
  },
  {
   "cell_type": "markdown",
   "metadata": {
    "id": "irZ4Y6Gr_aIK"
   },
   "source": [
    "## Data Frames\n",
    "\n",
    "A DataFrame is a two-dimensional, size-mutable, and potentially heterogeneous tabular data structure with labeled axes (rows and columns). It is the most commonly used Pandas object.\n",
    "\n",
    "**Creating a DataFrame**\n",
    "\n",
    "You can create a DataFrame from a dictionary of series:"
   ]
  },
  {
   "cell_type": "code",
   "execution_count": null,
   "metadata": {
    "colab": {
     "base_uri": "https://localhost:8080/"
    },
    "executionInfo": {
     "elapsed": 188,
     "status": "ok",
     "timestamp": 1726342504470,
     "user": {
      "displayName": "Mena Whalen",
      "userId": "13683391233796222202"
     },
     "user_tz": 300
    },
    "id": "d5nOkm_a_3xO",
    "outputId": "5e064977-4ba6-46f2-83f4-730dc9c4f982"
   },
   "outputs": [],
   "source": [
    "area_dict = {'California':423967, \"Texas\":695662, 'New York':141297, 'Florida':170312,'Illinois':149995}\n",
    "area = pd.Series(area_dict)\n",
    "print(area)\n"
   ]
  },
  {
   "cell_type": "code",
   "execution_count": null,
   "metadata": {
    "colab": {
     "base_uri": "https://localhost:8080/"
    },
    "executionInfo": {
     "elapsed": 180,
     "status": "ok",
     "timestamp": 1726342586245,
     "user": {
      "displayName": "Mena Whalen",
      "userId": "13683391233796222202"
     },
     "user_tz": 300
    },
    "id": "IQkzyPXH_5B5",
    "outputId": "19e5eb10-ea42-4830-92db-abe666fdbb91"
   },
   "outputs": [],
   "source": [
    "population_dict = {'California':38332521, \"Texas\":26448193, 'New York':19651127, 'Florida':19552860,'Illinois':12882135}\n",
    "population = pd.Series(population_dict)\n",
    "states = pd.DataFrame({'population':population, 'area':area})\n",
    "print(states)\n"
   ]
  },
  {
   "cell_type": "markdown",
   "metadata": {
    "id": "F0fmRt-WEasu"
   },
   "source": [
    "Access the index and columns attributes to inspect the DataFrame structure:"
   ]
  },
  {
   "cell_type": "code",
   "execution_count": null,
   "metadata": {
    "colab": {
     "base_uri": "https://localhost:8080/"
    },
    "executionInfo": {
     "elapsed": 222,
     "status": "ok",
     "timestamp": 1726342588698,
     "user": {
      "displayName": "Mena Whalen",
      "userId": "13683391233796222202"
     },
     "user_tz": 300
    },
    "id": "tWCeSBXoCT0J",
    "outputId": "b7768134-83a2-4e44-aa32-9d629a623b8c"
   },
   "outputs": [],
   "source": [
    "states.index"
   ]
  },
  {
   "cell_type": "code",
   "execution_count": null,
   "metadata": {
    "colab": {
     "base_uri": "https://localhost:8080/"
    },
    "executionInfo": {
     "elapsed": 176,
     "status": "ok",
     "timestamp": 1726342590393,
     "user": {
      "displayName": "Mena Whalen",
      "userId": "13683391233796222202"
     },
     "user_tz": 300
    },
    "id": "yWh79oMSCL_v",
    "outputId": "4747dd70-01af-488b-ab28-06845b78d3f6"
   },
   "outputs": [],
   "source": [
    "states.columns"
   ]
  },
  {
   "cell_type": "markdown",
   "metadata": {
    "id": "_GdQCrOtEe_F"
   },
   "source": [
    "Accessing a single column"
   ]
  },
  {
   "cell_type": "code",
   "execution_count": null,
   "metadata": {
    "colab": {
     "base_uri": "https://localhost:8080/",
     "height": 241
    },
    "executionInfo": {
     "elapsed": 143,
     "status": "ok",
     "timestamp": 1726342591809,
     "user": {
      "displayName": "Mena Whalen",
      "userId": "13683391233796222202"
     },
     "user_tz": 300
    },
    "id": "Nrx0FdKsCMNh",
    "outputId": "24899e18-06a3-40a8-f707-c7f54468126c"
   },
   "outputs": [],
   "source": [
    "states['population']"
   ]
  },
  {
   "cell_type": "markdown",
   "metadata": {
    "id": "RNsOIaCtE99z"
   },
   "source": [
    "Creating a DataFrame from List of Dictionaries"
   ]
  },
  {
   "cell_type": "code",
   "execution_count": null,
   "metadata": {
    "colab": {
     "base_uri": "https://localhost:8080/",
     "height": 143
    },
    "executionInfo": {
     "elapsed": 167,
     "status": "ok",
     "timestamp": 1726342079961,
     "user": {
      "displayName": "Mena Whalen",
      "userId": "13683391233796222202"
     },
     "user_tz": 300
    },
    "id": "b0OrgWypAIT4",
    "outputId": "619cd900-3cd5-4c37-abc4-afca1579d129"
   },
   "outputs": [],
   "source": [
    "data = [{'a':i,'b':2+1} for i in range(3)]\n",
    "pd.DataFrame(data)\n",
    "\n"
   ]
  },
  {
   "cell_type": "markdown",
   "metadata": {
    "id": "OOzM-v22FCSx"
   },
   "source": [
    "**Creating a DataFrame from Numpy Arrays**\n",
    "\n",
    "You can create a DataFrame using a Numpy array, specifying custom columns and row labels:"
   ]
  },
  {
   "cell_type": "code",
   "execution_count": null,
   "metadata": {
    "colab": {
     "base_uri": "https://localhost:8080/",
     "height": 143
    },
    "executionInfo": {
     "elapsed": 185,
     "status": "ok",
     "timestamp": 1726695269609,
     "user": {
      "displayName": "Mena Whalen",
      "userId": "13683391233796222202"
     },
     "user_tz": 300
    },
    "id": "TUTBx4_0AYI7",
    "outputId": "54172130-5e24-4c30-cf81-db440282b98e"
   },
   "outputs": [],
   "source": [
    "pd.DataFrame(np.random.rand(3, 2), columns=['foo', 'bar'], index=['a', 'b', 'c'])\n"
   ]
  },
  {
   "cell_type": "markdown",
   "metadata": {
    "id": "tmgskjdlFH7j"
   },
   "source": [
    "**Structured DataFrame**\n",
    "\n",
    "A DataFrame can also be created from a structured Numpy array:"
   ]
  },
  {
   "cell_type": "code",
   "execution_count": null,
   "metadata": {
    "colab": {
     "base_uri": "https://localhost:8080/"
    },
    "executionInfo": {
     "elapsed": 189,
     "status": "ok",
     "timestamp": 1726342126267,
     "user": {
      "displayName": "Mena Whalen",
      "userId": "13683391233796222202"
     },
     "user_tz": 300
    },
    "id": "WNVXIV7mAfwC",
    "outputId": "bb8b4dc0-f297-41e4-aa54-dabef37cd205"
   },
   "outputs": [],
   "source": [
    "A = np.zeros(3, dtype = [('A','i8'),('B',\"f8\")])\n",
    "print(A)\n"
   ]
  },
  {
   "cell_type": "code",
   "execution_count": null,
   "metadata": {
    "colab": {
     "base_uri": "https://localhost:8080/"
    },
    "executionInfo": {
     "elapsed": 157,
     "status": "ok",
     "timestamp": 1726342129023,
     "user": {
      "displayName": "Mena Whalen",
      "userId": "13683391233796222202"
     },
     "user_tz": 300
    },
    "id": "iIWmj1e2Aj_s",
    "outputId": "7c4508f2-9823-4a7c-dbb3-36e1ce3d560c"
   },
   "outputs": [],
   "source": [
    "\n",
    "print(pd.DataFrame(A))"
   ]
  },
  {
   "cell_type": "markdown",
   "metadata": {
    "id": "b5mH_Eg_FpYc"
   },
   "source": [
    "### Data Indexing and Selection\n",
    "Pandas provides a wide variety of methods to access, manipulate, and filter data using its powerful indexing capabilities. Understanding how to work with Pandas indices and apply various selection techniques is key to making the most out of data analysis.\n",
    "\n",
    "Pandas `Index` objects are similar to arrays but have some extra functionality. These indices can be used for selecting rows or columns in a Series or DataFrame."
   ]
  },
  {
   "cell_type": "code",
   "execution_count": null,
   "metadata": {
    "colab": {
     "base_uri": "https://localhost:8080/"
    },
    "executionInfo": {
     "elapsed": 153,
     "status": "ok",
     "timestamp": 1726696236794,
     "user": {
      "displayName": "Mena Whalen",
      "userId": "13683391233796222202"
     },
     "user_tz": 300
    },
    "id": "EG7jSrNgFwOs",
    "outputId": "61d286c2-11f6-48ef-b9fa-d30feba0e09b"
   },
   "outputs": [],
   "source": [
    "ind = pd.Index([2,3,5,7,11])\n",
    "print(ind)\n",
    "print(ind[1])      # Access the second element\n",
    "print(ind[::2])    # Access every other element"
   ]
  },
  {
   "cell_type": "markdown",
   "metadata": {
    "id": "W8ZNlY5MHkzM"
   },
   "source": [
    "You can inspect the properties of an index:"
   ]
  },
  {
   "cell_type": "code",
   "execution_count": null,
   "metadata": {
    "colab": {
     "base_uri": "https://localhost:8080/"
    },
    "executionInfo": {
     "elapsed": 128,
     "status": "ok",
     "timestamp": 1726696239214,
     "user": {
      "displayName": "Mena Whalen",
      "userId": "13683391233796222202"
     },
     "user_tz": 300
    },
    "id": "w4rmYiwJFxw1",
    "outputId": "063b6b5e-9d6a-473f-da6b-d32c44f6a32a"
   },
   "outputs": [],
   "source": [
    "print(ind.size)    # Number of elements\n",
    "print(ind.shape)   # Shape of the index\n",
    "print(ind.ndim)    # Number of dimensions\n",
    "print(ind.dtype)   # Data type of the index"
   ]
  },
  {
   "cell_type": "markdown",
   "metadata": {
    "id": "c7RpcIUmHpzH"
   },
   "source": [
    "Once created, indices cannot be modified:"
   ]
  },
  {
   "cell_type": "code",
   "execution_count": null,
   "metadata": {
    "colab": {
     "base_uri": "https://localhost:8080/"
    },
    "executionInfo": {
     "elapsed": 160,
     "status": "ok",
     "timestamp": 1726696281328,
     "user": {
      "displayName": "Mena Whalen",
      "userId": "13683391233796222202"
     },
     "user_tz": 300
    },
    "id": "B7OBkgwoFzzI",
    "outputId": "d63dd2a5-b6f8-423e-bdd8-3b033b55ca66"
   },
   "outputs": [],
   "source": [
    "\n",
    "print(ind)\n",
    "#can't be modified\n",
    "#ind[1] = 0"
   ]
  },
  {
   "cell_type": "markdown",
   "metadata": {
    "id": "khvMbaZDHsYE"
   },
   "source": [
    "Pandas Index supports set-like operations, such as intersection (`&`), union (`|`), and symmetric difference (`^`):"
   ]
  },
  {
   "cell_type": "code",
   "execution_count": null,
   "metadata": {
    "colab": {
     "base_uri": "https://localhost:8080/"
    },
    "executionInfo": {
     "elapsed": 165,
     "status": "ok",
     "timestamp": 1726343524063,
     "user": {
      "displayName": "Mena Whalen",
      "userId": "13683391233796222202"
     },
     "user_tz": 300
    },
    "id": "My3ynKOGF4xR",
    "outputId": "7deba197-dcc4-4307-b188-24402c40d04f"
   },
   "outputs": [],
   "source": [
    "indA = pd.Index([1,3,4,5,9])\n",
    "indB = pd.Index([2,3,5,7,11])\n",
    "print(indA & indB) #and\n",
    "print(indA | indB) #or\n",
    "print(indA ^ indB) #exclusive or symmetric difference"
   ]
  },
  {
   "cell_type": "markdown",
   "metadata": {
    "id": "AwuD4aWbH2kb"
   },
   "source": [
    "#### Series Indexing and Selection\n",
    "\n",
    "eries objects support both positional and label-based indexing, similar to how dictionaries work, but with added capabilities.\n",
    "\n",
    "**Basic Series Indexing**\n",
    "\n",
    "You can check if a label is in the index and access data via the `keys()` method or by converting the `items()` into a list:"
   ]
  },
  {
   "cell_type": "code",
   "execution_count": null,
   "metadata": {
    "colab": {
     "base_uri": "https://localhost:8080/"
    },
    "executionInfo": {
     "elapsed": 166,
     "status": "ok",
     "timestamp": 1726343581965,
     "user": {
      "displayName": "Mena Whalen",
      "userId": "13683391233796222202"
     },
     "user_tz": 300
    },
    "id": "RLpJAwPgF-j4",
    "outputId": "e419f752-9138-4be0-d381-557538fe32d7"
   },
   "outputs": [],
   "source": [
    "data = pd.Series([0.25, 0.5, 0.75, 1], index = ['a','b','c','d'])\n",
    "print('a' in data)\n",
    "print(data.keys())\n",
    "list(data.items())"
   ]
  },
  {
   "cell_type": "markdown",
   "metadata": {
    "id": "TqIBlfklIBWI"
   },
   "source": [
    "You can extend a Series by assigning new data to a new index:"
   ]
  },
  {
   "cell_type": "code",
   "execution_count": null,
   "metadata": {
    "colab": {
     "base_uri": "https://localhost:8080/",
     "height": 241
    },
    "executionInfo": {
     "elapsed": 151,
     "status": "ok",
     "timestamp": 1726343584441,
     "user": {
      "displayName": "Mena Whalen",
      "userId": "13683391233796222202"
     },
     "user_tz": 300
    },
    "id": "ujVqo6JQGAOk",
    "outputId": "4eb5b0f4-7bf0-40e6-c26e-60c925851043"
   },
   "outputs": [],
   "source": [
    "#Extend a series\n",
    "data['e'] = 1.25\n",
    "data"
   ]
  },
  {
   "cell_type": "markdown",
   "metadata": {
    "id": "toMti4l9INS3"
   },
   "source": [
    "Here, grace is a Series where the index is in reverse order:"
   ]
  },
  {
   "cell_type": "code",
   "execution_count": null,
   "metadata": {
    "colab": {
     "base_uri": "https://localhost:8080/"
    },
    "executionInfo": {
     "elapsed": 193,
     "status": "ok",
     "timestamp": 1726344115020,
     "user": {
      "displayName": "Mena Whalen",
      "userId": "13683391233796222202"
     },
     "user_tz": 300
    },
    "id": "W8OdjhUbGEF8",
    "outputId": "de6ed8c9-7f2f-4fff-e7ab-b5f1a5468009"
   },
   "outputs": [],
   "source": [
    "grace = pd.Series([0.25, 0.5, 0.75, 1], index = ['d','c','b','a'])\n",
    "print(grace)\n",
    "grace['e'] = 5\n",
    "print(grace)"
   ]
  },
  {
   "cell_type": "markdown",
   "metadata": {
    "id": "cQ2YMk3cIPe0"
   },
   "source": [
    "Slicing by Explicit Index\n",
    "\n",
    "- When slicing using an explicit label, both the start and end indices are included\n",
    "\n",
    "- When slicing by integer position, it behaves like typical Python slicing\n",
    "\n",
    "- You can apply conditions to create masks and filter the data\n",
    "\n",
    "- You can also select elements based on a list of specific indices"
   ]
  },
  {
   "cell_type": "code",
   "execution_count": null,
   "metadata": {
    "colab": {
     "base_uri": "https://localhost:8080/",
     "height": 178
    },
    "executionInfo": {
     "elapsed": 171,
     "status": "ok",
     "timestamp": 1726343694499,
     "user": {
      "displayName": "Mena Whalen",
      "userId": "13683391233796222202"
     },
     "user_tz": 300
    },
    "id": "R-ybbn8AGXNP",
    "outputId": "476dcd49-f5c5-464c-a144-b59ea45cfe44"
   },
   "outputs": [],
   "source": [
    "\n",
    "#Slicing by explicit index\n",
    "data['a':'c']\n"
   ]
  },
  {
   "cell_type": "code",
   "execution_count": null,
   "metadata": {
    "colab": {
     "base_uri": "https://localhost:8080/",
     "height": 147
    },
    "executionInfo": {
     "elapsed": 244,
     "status": "ok",
     "timestamp": 1726343696135,
     "user": {
      "displayName": "Mena Whalen",
      "userId": "13683391233796222202"
     },
     "user_tz": 300
    },
    "id": "Evzp1XPmGf8l",
    "outputId": "7cfca213-2bbe-4320-c237-30d2fe24e3d4"
   },
   "outputs": [],
   "source": [
    "#Slicing by explicit integer index\n",
    "data[0:2]"
   ]
  },
  {
   "cell_type": "code",
   "execution_count": null,
   "metadata": {
    "colab": {
     "base_uri": "https://localhost:8080/",
     "height": 147
    },
    "executionInfo": {
     "elapsed": 206,
     "status": "ok",
     "timestamp": 1726343697920,
     "user": {
      "displayName": "Mena Whalen",
      "userId": "13683391233796222202"
     },
     "user_tz": 300
    },
    "id": "Ttln-p7NGhHA",
    "outputId": "b0165f4d-a939-4e76-c650-212f6a7f7e2a"
   },
   "outputs": [],
   "source": [
    "#Slicing by masking\n",
    "data[(data>0.3) & (data < 0.8)]"
   ]
  },
  {
   "cell_type": "code",
   "execution_count": null,
   "metadata": {
    "colab": {
     "base_uri": "https://localhost:8080/",
     "height": 147
    },
    "executionInfo": {
     "elapsed": 203,
     "status": "ok",
     "timestamp": 1726343699765,
     "user": {
      "displayName": "Mena Whalen",
      "userId": "13683391233796222202"
     },
     "user_tz": 300
    },
    "id": "irP7bEKyGiQw",
    "outputId": "b136c9d1-851b-4b35-c454-28edda6a1af2"
   },
   "outputs": [],
   "source": [
    "\n",
    "#slicing by fancy indexing\n",
    "data[['a','e']]"
   ]
  },
  {
   "cell_type": "markdown",
   "metadata": {
    "id": "ILfwpok5IeZy"
   },
   "source": [
    "### Selecting with .loc and .iloc and MultiIndexing\n",
    "\n",
    "In Pandas, there are multiple ways to index and select data from Series and DataFrames. The loc and iloc methods are two of the most important tools for selecting data by labels and by integer positions, respectively.\n",
    "\n",
    "#### Using .loc for Label-based Selection\n",
    ".loc is used for selecting data based on labels, and it can handle single labels, slices, or boolean arrays.\n",
    "\n",
    "Series Selection with .loc"
   ]
  },
  {
   "cell_type": "code",
   "execution_count": null,
   "metadata": {
    "colab": {
     "base_uri": "https://localhost:8080/"
    },
    "executionInfo": {
     "elapsed": 286,
     "status": "ok",
     "timestamp": 1726696765997,
     "user": {
      "displayName": "Mena Whalen",
      "userId": "13683391233796222202"
     },
     "user_tz": 300
    },
    "id": "_lPon2NtIjWc",
    "outputId": "75a9e2b3-407e-4218-c2b6-4276c3f0eb7a"
   },
   "outputs": [],
   "source": [
    "data = pd.Series(['a','b','c'], index = [1,3,5])\n",
    "print(data.loc[1])"
   ]
  },
  {
   "cell_type": "code",
   "execution_count": null,
   "metadata": {
    "colab": {
     "base_uri": "https://localhost:8080/"
    },
    "executionInfo": {
     "elapsed": 160,
     "status": "ok",
     "timestamp": 1726696824583,
     "user": {
      "displayName": "Mena Whalen",
      "userId": "13683391233796222202"
     },
     "user_tz": 300
    },
    "id": "5MqvPoOmIeJ0",
    "outputId": "fcac4e3c-ebb7-40ad-a785-d143a05f15c5"
   },
   "outputs": [],
   "source": [
    "print(data.loc[1:3])"
   ]
  },
  {
   "cell_type": "markdown",
   "metadata": {
    "id": "KlXh8ppiNEFq"
   },
   "source": [
    "#### DataFrame Selection with .loc\n",
    ".loc can also be used to select rows and columns from a DataFrame by their labels.\n",
    "\n",
    "Creating a DataFrame Example"
   ]
  },
  {
   "cell_type": "code",
   "execution_count": null,
   "metadata": {
    "colab": {
     "base_uri": "https://localhost:8080/"
    },
    "executionInfo": {
     "elapsed": 143,
     "status": "ok",
     "timestamp": 1726696852480,
     "user": {
      "displayName": "Mena Whalen",
      "userId": "13683391233796222202"
     },
     "user_tz": 300
    },
    "id": "5oCZ86NLItNl",
    "outputId": "703f4a1c-ba88-4fa7-c379-af76418ff495"
   },
   "outputs": [],
   "source": [
    "#Data Selection in a dataframe.\n",
    "area_dict = {'California':423967, \"Texas\":695662, 'New York':141297, 'Florida':170312,'Illinois':149995}\n",
    "area = pd.Series(area_dict)\n",
    "print(area)\n",
    "population_dict = {'California':38332521, \"Texas\":26448193, 'New York':19651127, 'Florida':19552860,'Illinois':12882135}\n",
    "population = pd.Series(population_dict)\n",
    "states = pd.DataFrame({'population':population, 'area':area})\n",
    "print(states)"
   ]
  },
  {
   "cell_type": "markdown",
   "metadata": {
    "id": "qnyCbR0GNKcq"
   },
   "source": [
    "You can use dictionary-style or attribute-style access to select a column from the DataFrame:"
   ]
  },
  {
   "cell_type": "code",
   "execution_count": null,
   "metadata": {
    "colab": {
     "base_uri": "https://localhost:8080/",
     "height": 241
    },
    "executionInfo": {
     "elapsed": 181,
     "status": "ok",
     "timestamp": 1726696867078,
     "user": {
      "displayName": "Mena Whalen",
      "userId": "13683391233796222202"
     },
     "user_tz": 300
    },
    "id": "1ZzR6V06IxQ6",
    "outputId": "04e2abf7-97e6-4d67-b449-8dfd2960dac7"
   },
   "outputs": [],
   "source": [
    "#dictionary style\n",
    "states['area']"
   ]
  },
  {
   "cell_type": "code",
   "execution_count": null,
   "metadata": {
    "colab": {
     "base_uri": "https://localhost:8080/",
     "height": 241
    },
    "executionInfo": {
     "elapsed": 165,
     "status": "ok",
     "timestamp": 1726696869955,
     "user": {
      "displayName": "Mena Whalen",
      "userId": "13683391233796222202"
     },
     "user_tz": 300
    },
    "id": "zlaevf13I0Ce",
    "outputId": "889ee63e-08e8-4793-b021-2df216b29454"
   },
   "outputs": [],
   "source": [
    "#attribute style\n",
    "states.area"
   ]
  },
  {
   "cell_type": "markdown",
   "metadata": {
    "id": "MYemRo5jNNue"
   },
   "source": [
    "Adding a new column for population density"
   ]
  },
  {
   "cell_type": "code",
   "execution_count": null,
   "metadata": {
    "colab": {
     "base_uri": "https://localhost:8080/",
     "height": 206
    },
    "executionInfo": {
     "elapsed": 259,
     "status": "ok",
     "timestamp": 1726696937328,
     "user": {
      "displayName": "Mena Whalen",
      "userId": "13683391233796222202"
     },
     "user_tz": 300
    },
    "id": "H7e6gU8yI2oJ",
    "outputId": "22a360cb-fa95-4ae3-daf9-e3f3f9426186"
   },
   "outputs": [],
   "source": [
    "#Adding a column\n",
    "states['density'] = states['population']/states['area']\n",
    "states"
   ]
  },
  {
   "cell_type": "code",
   "execution_count": null,
   "metadata": {
    "colab": {
     "base_uri": "https://localhost:8080/"
    },
    "executionInfo": {
     "elapsed": 159,
     "status": "ok",
     "timestamp": 1726696939457,
     "user": {
      "displayName": "Mena Whalen",
      "userId": "13683391233796222202"
     },
     "user_tz": 300
    },
    "id": "mcvDXs1gI7AC",
    "outputId": "9aa8ed43-f8c8-4e9a-b9d8-e6c51dceb434"
   },
   "outputs": [],
   "source": [
    "#Dataframe as a 2D array\n",
    "states.values\n"
   ]
  },
  {
   "cell_type": "markdown",
   "metadata": {
    "id": "alHyJN2xNQYC"
   },
   "source": [
    "Transpose the DataFrame (swap rows and columns):"
   ]
  },
  {
   "cell_type": "code",
   "execution_count": null,
   "metadata": {
    "colab": {
     "base_uri": "https://localhost:8080/",
     "height": 143
    },
    "executionInfo": {
     "elapsed": 135,
     "status": "ok",
     "timestamp": 1726696957469,
     "user": {
      "displayName": "Mena Whalen",
      "userId": "13683391233796222202"
     },
     "user_tz": 300
    },
    "id": "FQbpwtxhI96O",
    "outputId": "68249442-b7ba-427d-a403-3dba5f546759"
   },
   "outputs": [],
   "source": [
    "#So we can traspose\n",
    "states.T"
   ]
  },
  {
   "cell_type": "markdown",
   "metadata": {
    "id": "0yCpIYNUNTHG"
   },
   "source": [
    "#### Using .iloc for Position-based Selection\n",
    ".iloc is used for selection by position (integer-based indexing)."
   ]
  },
  {
   "cell_type": "code",
   "execution_count": null,
   "metadata": {
    "colab": {
     "base_uri": "https://localhost:8080/",
     "height": 206
    },
    "executionInfo": {
     "elapsed": 6,
     "status": "ok",
     "timestamp": 1726344351038,
     "user": {
      "displayName": "Mena Whalen",
      "userId": "13683391233796222202"
     },
     "user_tz": 300
    },
    "id": "3wgI58kII_xW",
    "outputId": "0470d574-67b8-43c9-ff6b-70f04e347d3e"
   },
   "outputs": [],
   "source": [
    "#Loc and iloc\n",
    "states.loc[:'Illinois',:'population']"
   ]
  },
  {
   "cell_type": "code",
   "execution_count": null,
   "metadata": {
    "colab": {
     "base_uri": "https://localhost:8080/",
     "height": 143
    },
    "executionInfo": {
     "elapsed": 181,
     "status": "ok",
     "timestamp": 1726344347171,
     "user": {
      "displayName": "Mena Whalen",
      "userId": "13683391233796222202"
     },
     "user_tz": 300
    },
    "id": "OF3pO8e2JB1t",
    "outputId": "1edcd2ed-ceb4-4c80-828e-3602b92ce5c7"
   },
   "outputs": [],
   "source": [
    "states.iloc[:3,:2]"
   ]
  },
  {
   "cell_type": "markdown",
   "metadata": {
    "id": "7Ai0TXJkNdjD"
   },
   "source": [
    "You can also use .loc with boolean arrays to filter data based on conditions"
   ]
  },
  {
   "cell_type": "code",
   "execution_count": null,
   "metadata": {
    "colab": {
     "base_uri": "https://localhost:8080/",
     "height": 112
    },
    "executionInfo": {
     "elapsed": 240,
     "status": "ok",
     "timestamp": 1726344718270,
     "user": {
      "displayName": "Mena Whalen",
      "userId": "13683391233796222202"
     },
     "user_tz": 300
    },
    "id": "-x3C0KvyJLD5",
    "outputId": "6ae4362c-fdea-4403-de77-55da7790a714"
   },
   "outputs": [],
   "source": [
    "\n",
    "#Indexing\n",
    "states.loc[states.density > 100, ['population','density']]"
   ]
  },
  {
   "cell_type": "markdown",
   "metadata": {
    "id": "mqp2LJedNm5I"
   },
   "source": [
    "### Working with MultiIndex (Hierarchical Indexing)\n",
    "A MultiIndex is useful when working with hierarchical data. Pandas allows the creation and manipulation of such indices, which can add extra dimensions to your data.\n",
    "\n",
    "Creating a MultiIndex"
   ]
  },
  {
   "cell_type": "code",
   "execution_count": null,
   "metadata": {
    "colab": {
     "base_uri": "https://localhost:8080/"
    },
    "executionInfo": {
     "elapsed": 170,
     "status": "ok",
     "timestamp": 1726344720382,
     "user": {
      "displayName": "Mena Whalen",
      "userId": "13683391233796222202"
     },
     "user_tz": 300
    },
    "id": "giOARkWZJPg7",
    "outputId": "745cbc99-6a91-4f01-b9c4-6c7e16e5795c"
   },
   "outputs": [],
   "source": [
    "index = [('CA',2000),('CA',2010),('NY',2000),('NY',2010),('TX',2000),('TX',2010)]\n",
    "\n",
    "population = [33871648, 37253956, 18976457, 19378102, 20851820, 25145561]\n",
    "\n",
    "pop = pd.Series(population, index = index)\n",
    "print(pop)"
   ]
  },
  {
   "cell_type": "markdown",
   "metadata": {
    "id": "gWnfSStZVbdQ"
   },
   "source": [
    "To formally turn your list of tuples into a MultiIndex"
   ]
  },
  {
   "cell_type": "code",
   "execution_count": null,
   "metadata": {
    "colab": {
     "base_uri": "https://localhost:8080/"
    },
    "executionInfo": {
     "elapsed": 310,
     "status": "ok",
     "timestamp": 1726344724893,
     "user": {
      "displayName": "Mena Whalen",
      "userId": "13683391233796222202"
     },
     "user_tz": 300
    },
    "id": "VLbpHNYHJTid",
    "outputId": "7bb62cad-a727-4018-968d-b77dc8f5679f"
   },
   "outputs": [],
   "source": [
    "index = pd.MultiIndex.from_tuples(index)\n",
    "index"
   ]
  },
  {
   "cell_type": "code",
   "execution_count": null,
   "metadata": {
    "colab": {
     "base_uri": "https://localhost:8080/",
     "height": 272
    },
    "executionInfo": {
     "elapsed": 172,
     "status": "ok",
     "timestamp": 1726345027525,
     "user": {
      "displayName": "Mena Whalen",
      "userId": "13683391233796222202"
     },
     "user_tz": 300
    },
    "id": "RwJpEirBLpaj",
    "outputId": "26aa2dad-0239-44ec-eb7b-73708eccc99d"
   },
   "outputs": [],
   "source": [
    "pop = pop.reindex(index)\n",
    "pop"
   ]
  },
  {
   "cell_type": "markdown",
   "metadata": {
    "id": "6_yqVRWSVgT6"
   },
   "source": [
    "You can \"unstack\" a MultiIndex into a DataFrame, then \"stack\" it back into a Series:"
   ]
  },
  {
   "cell_type": "code",
   "execution_count": null,
   "metadata": {
    "colab": {
     "base_uri": "https://localhost:8080/"
    },
    "executionInfo": {
     "elapsed": 236,
     "status": "ok",
     "timestamp": 1726345031654,
     "user": {
      "displayName": "Mena Whalen",
      "userId": "13683391233796222202"
     },
     "user_tz": 300
    },
    "id": "rd2Y9CPnJVyY",
    "outputId": "fbe5790f-1596-486f-8ca6-bac67d15d250"
   },
   "outputs": [],
   "source": [
    "pop_df = pop.unstack()\n",
    "print(pop_df)"
   ]
  },
  {
   "cell_type": "code",
   "execution_count": null,
   "metadata": {
    "colab": {
     "base_uri": "https://localhost:8080/"
    },
    "executionInfo": {
     "elapsed": 200,
     "status": "ok",
     "timestamp": 1726345037025,
     "user": {
      "displayName": "Mena Whalen",
      "userId": "13683391233796222202"
     },
     "user_tz": 300
    },
    "id": "BUiREEQXJfD7",
    "outputId": "8a582076-d6f0-4ffa-9a04-a1add7e998dd"
   },
   "outputs": [],
   "source": [
    "print(pop_df.stack())"
   ]
  },
  {
   "cell_type": "markdown",
   "metadata": {
    "id": "eyAWGmIdVluM"
   },
   "source": [
    "Here's a more complex example where we calculate the fraction of the population under 18:"
   ]
  },
  {
   "cell_type": "code",
   "execution_count": null,
   "metadata": {
    "colab": {
     "base_uri": "https://localhost:8080/",
     "height": 237
    },
    "executionInfo": {
     "elapsed": 172,
     "status": "ok",
     "timestamp": 1726345057642,
     "user": {
      "displayName": "Mena Whalen",
      "userId": "13683391233796222202"
     },
     "user_tz": 300
    },
    "id": "yZPtTYA6JjPS",
    "outputId": "1e39b08d-2c33-4ed6-fd10-895378c86ffc"
   },
   "outputs": [],
   "source": [
    "pop_df = pd.DataFrame({'total':pop, 'under18': [9267089,9284094,4687374,4318033,5906301,6879014]})\n",
    "pop_df"
   ]
  },
  {
   "cell_type": "code",
   "execution_count": null,
   "metadata": {
    "colab": {
     "base_uri": "https://localhost:8080/"
    },
    "executionInfo": {
     "elapsed": 204,
     "status": "ok",
     "timestamp": 1726345061731,
     "user": {
      "displayName": "Mena Whalen",
      "userId": "13683391233796222202"
     },
     "user_tz": 300
    },
    "id": "mprPrM5OJl9l",
    "outputId": "752c0dae-86b0-491c-d1c1-ff17f34364c3"
   },
   "outputs": [],
   "source": [
    "f_u18 = pop_df['under18']/pop_df['total']\n",
    "print(f_u18)"
   ]
  },
  {
   "cell_type": "markdown",
   "metadata": {
    "id": "0ZVTItS_VxEB"
   },
   "source": [
    "## Reading in Files\n",
    "\n"
   ]
  },
  {
   "cell_type": "code",
   "execution_count": 4,
   "metadata": {
    "colab": {
     "base_uri": "https://localhost:8080/",
     "height": 270
    },
    "executionInfo": {
     "elapsed": 173,
     "status": "ok",
     "timestamp": 1726698268931,
     "user": {
      "displayName": "Mena Whalen",
      "userId": "13683391233796222202"
     },
     "user_tz": 300
    },
    "id": "kPNcGatOWRa0",
    "outputId": "852e9937-573e-4903-a73f-add474333663"
   },
   "outputs": [
    {
     "name": "stdout",
     "output_type": "stream",
     "text": [
      "<class 'pandas.core.frame.DataFrame'>\n",
      "<class 'pandas.core.series.Series'>\n"
     ]
    },
    {
     "data": {
      "text/html": [
       "<div>\n",
       "<style scoped>\n",
       "    .dataframe tbody tr th:only-of-type {\n",
       "        vertical-align: middle;\n",
       "    }\n",
       "\n",
       "    .dataframe tbody tr th {\n",
       "        vertical-align: top;\n",
       "    }\n",
       "\n",
       "    .dataframe thead th {\n",
       "        text-align: right;\n",
       "    }\n",
       "</style>\n",
       "<table border=\"1\" class=\"dataframe\">\n",
       "  <thead>\n",
       "    <tr style=\"text-align: right;\">\n",
       "      <th></th>\n",
       "      <th>Year</th>\n",
       "      <th>Tm</th>\n",
       "      <th>Lg</th>\n",
       "      <th>G</th>\n",
       "      <th>W</th>\n",
       "      <th>L</th>\n",
       "      <th>Ties</th>\n",
       "      <th>W-L%</th>\n",
       "      <th>pythW-L%</th>\n",
       "      <th>Finish</th>\n",
       "      <th>...</th>\n",
       "      <th>Playoffs</th>\n",
       "      <th>R</th>\n",
       "      <th>RA</th>\n",
       "      <th>Attendance</th>\n",
       "      <th>BatAge</th>\n",
       "      <th>PAge</th>\n",
       "      <th>#Bat</th>\n",
       "      <th>#P</th>\n",
       "      <th>Top Player</th>\n",
       "      <th>Managers</th>\n",
       "    </tr>\n",
       "  </thead>\n",
       "  <tbody>\n",
       "    <tr>\n",
       "      <th>0</th>\n",
       "      <td>2022</td>\n",
       "      <td>Chicago Cubs</td>\n",
       "      <td>NL Central</td>\n",
       "      <td>125</td>\n",
       "      <td>54</td>\n",
       "      <td>71</td>\n",
       "      <td>0</td>\n",
       "      <td>0.432</td>\n",
       "      <td>0.436</td>\n",
       "      <td>3rd of 5</td>\n",
       "      <td>...</td>\n",
       "      <td>NaN</td>\n",
       "      <td>518</td>\n",
       "      <td>596</td>\n",
       "      <td>2163550.0</td>\n",
       "      <td>28.1</td>\n",
       "      <td>29.8</td>\n",
       "      <td>57</td>\n",
       "      <td>37</td>\n",
       "      <td>N.Hoerner (4.2)</td>\n",
       "      <td>D.Ross (54-71)</td>\n",
       "    </tr>\n",
       "    <tr>\n",
       "      <th>1</th>\n",
       "      <td>2021</td>\n",
       "      <td>Chicago Cubs</td>\n",
       "      <td>NL Central</td>\n",
       "      <td>162</td>\n",
       "      <td>71</td>\n",
       "      <td>91</td>\n",
       "      <td>0</td>\n",
       "      <td>0.438</td>\n",
       "      <td>0.421</td>\n",
       "      <td>4th of 5</td>\n",
       "      <td>...</td>\n",
       "      <td>NaN</td>\n",
       "      <td>705</td>\n",
       "      <td>839</td>\n",
       "      <td>1978934.0</td>\n",
       "      <td>29.1</td>\n",
       "      <td>29.4</td>\n",
       "      <td>69</td>\n",
       "      <td>40</td>\n",
       "      <td>W.Contreras (4.1)</td>\n",
       "      <td>D.Ross (71-91)</td>\n",
       "    </tr>\n",
       "    <tr>\n",
       "      <th>2</th>\n",
       "      <td>2020</td>\n",
       "      <td>Chicago Cubs</td>\n",
       "      <td>NL Central</td>\n",
       "      <td>60</td>\n",
       "      <td>34</td>\n",
       "      <td>26</td>\n",
       "      <td>0</td>\n",
       "      <td>0.567</td>\n",
       "      <td>0.545</td>\n",
       "      <td>1st of 5</td>\n",
       "      <td>...</td>\n",
       "      <td>Lost NLWC (2-0)</td>\n",
       "      <td>265</td>\n",
       "      <td>240</td>\n",
       "      <td>NaN</td>\n",
       "      <td>27.9</td>\n",
       "      <td>30.3</td>\n",
       "      <td>47</td>\n",
       "      <td>26</td>\n",
       "      <td>Y.Darvish (2.8)</td>\n",
       "      <td>D.Ross (34-26)</td>\n",
       "    </tr>\n",
       "    <tr>\n",
       "      <th>3</th>\n",
       "      <td>2019</td>\n",
       "      <td>Chicago Cubs</td>\n",
       "      <td>NL Central</td>\n",
       "      <td>162</td>\n",
       "      <td>84</td>\n",
       "      <td>78</td>\n",
       "      <td>0</td>\n",
       "      <td>0.519</td>\n",
       "      <td>0.558</td>\n",
       "      <td>3rd of 5</td>\n",
       "      <td>...</td>\n",
       "      <td>NaN</td>\n",
       "      <td>814</td>\n",
       "      <td>717</td>\n",
       "      <td>3094865.0</td>\n",
       "      <td>27.7</td>\n",
       "      <td>31.1</td>\n",
       "      <td>52</td>\n",
       "      <td>33</td>\n",
       "      <td>J.Baez (6.6)</td>\n",
       "      <td>J.Maddon (84-78)</td>\n",
       "    </tr>\n",
       "    <tr>\n",
       "      <th>4</th>\n",
       "      <td>2018</td>\n",
       "      <td>Chicago Cubs</td>\n",
       "      <td>NL Central</td>\n",
       "      <td>163</td>\n",
       "      <td>95</td>\n",
       "      <td>68</td>\n",
       "      <td>0</td>\n",
       "      <td>0.583</td>\n",
       "      <td>0.575</td>\n",
       "      <td>2nd of 5</td>\n",
       "      <td>...</td>\n",
       "      <td>Lost NLWC (1-0)</td>\n",
       "      <td>761</td>\n",
       "      <td>645</td>\n",
       "      <td>3181089.0</td>\n",
       "      <td>27.2</td>\n",
       "      <td>30.2</td>\n",
       "      <td>50</td>\n",
       "      <td>35</td>\n",
       "      <td>J.Baez (6.4)</td>\n",
       "      <td>J.Maddon (95-68)</td>\n",
       "    </tr>\n",
       "  </tbody>\n",
       "</table>\n",
       "<p>5 rows × 21 columns</p>\n",
       "</div>"
      ],
      "text/plain": [
       "   Year            Tm          Lg    G   W   L  Ties   W-L%  pythW-L%  \\\n",
       "0  2022  Chicago Cubs  NL Central  125  54  71     0  0.432     0.436   \n",
       "1  2021  Chicago Cubs  NL Central  162  71  91     0  0.438     0.421   \n",
       "2  2020  Chicago Cubs  NL Central   60  34  26     0  0.567     0.545   \n",
       "3  2019  Chicago Cubs  NL Central  162  84  78     0  0.519     0.558   \n",
       "4  2018  Chicago Cubs  NL Central  163  95  68     0  0.583     0.575   \n",
       "\n",
       "     Finish  ...         Playoffs    R   RA  Attendance  BatAge  PAge  #Bat  \\\n",
       "0  3rd of 5  ...              NaN  518  596   2163550.0    28.1  29.8    57   \n",
       "1  4th of 5  ...              NaN  705  839   1978934.0    29.1  29.4    69   \n",
       "2  1st of 5  ...  Lost NLWC (2-0)  265  240         NaN    27.9  30.3    47   \n",
       "3  3rd of 5  ...              NaN  814  717   3094865.0    27.7  31.1    52   \n",
       "4  2nd of 5  ...  Lost NLWC (1-0)  761  645   3181089.0    27.2  30.2    50   \n",
       "\n",
       "   #P         Top Player          Managers  \n",
       "0  37    N.Hoerner (4.2)    D.Ross (54-71)  \n",
       "1  40  W.Contreras (4.1)    D.Ross (71-91)  \n",
       "2  26    Y.Darvish (2.8)    D.Ross (34-26)  \n",
       "3  33       J.Baez (6.6)  J.Maddon (84-78)  \n",
       "4  35       J.Baez (6.4)  J.Maddon (95-68)  \n",
       "\n",
       "[5 rows x 21 columns]"
      ]
     },
     "execution_count": 4,
     "metadata": {},
     "output_type": "execute_result"
    }
   ],
   "source": [
    "cubs  = pd.read_csv(\"../data/cubs_all_time.csv\")\n",
    "print(type(cubs))\n",
    "print(type(cubs.Tm))\n",
    "cubs.head()"
   ]
  },
  {
   "cell_type": "code",
   "execution_count": 5,
   "metadata": {
    "id": "NJ-dKtCaWue_"
   },
   "outputs": [
    {
     "data": {
      "text/plain": [
       "0                 Chicago Cubs\n",
       "1                 Chicago Cubs\n",
       "2                 Chicago Cubs\n",
       "3                 Chicago Cubs\n",
       "4                 Chicago Cubs\n",
       "                ...           \n",
       "142    Chicago White Stockings\n",
       "143    Chicago White Stockings\n",
       "144    Chicago White Stockings\n",
       "145    Chicago White Stockings\n",
       "146    Chicago White Stockings\n",
       "Name: Tm, Length: 147, dtype: object"
      ]
     },
     "execution_count": 5,
     "metadata": {},
     "output_type": "execute_result"
    }
   ],
   "source": [
    "\n",
    "#get individual variables\n",
    "cubs.Tm"
   ]
  },
  {
   "cell_type": "code",
   "execution_count": 6,
   "metadata": {
    "id": "pq-maT71WwKq"
   },
   "outputs": [
    {
     "data": {
      "text/plain": [
       "0                 Chicago Cubs\n",
       "1                 Chicago Cubs\n",
       "2                 Chicago Cubs\n",
       "3                 Chicago Cubs\n",
       "4                 Chicago Cubs\n",
       "                ...           \n",
       "142    Chicago White Stockings\n",
       "143    Chicago White Stockings\n",
       "144    Chicago White Stockings\n",
       "145    Chicago White Stockings\n",
       "146    Chicago White Stockings\n",
       "Name: Tm, Length: 147, dtype: object"
      ]
     },
     "execution_count": 6,
     "metadata": {},
     "output_type": "execute_result"
    }
   ],
   "source": [
    "#This also works\n",
    "cubs[\"Tm\"]"
   ]
  },
  {
   "cell_type": "code",
   "execution_count": null,
   "metadata": {
    "id": "GWqV3gLvWxsn"
   },
   "outputs": [],
   "source": [
    "#select multipel variables\n",
    "cubs[[\"Year\",\"Tm\"]]"
   ]
  },
  {
   "cell_type": "code",
   "execution_count": null,
   "metadata": {
    "id": "O5JhuanQW2oa"
   },
   "outputs": [],
   "source": [
    "#filter on rows\n",
    "cubs[cubs[\"Year\"] >= 2000]"
   ]
  },
  {
   "cell_type": "code",
   "execution_count": null,
   "metadata": {
    "colab": {
     "base_uri": "https://localhost:8080/",
     "height": 110
    },
    "executionInfo": {
     "elapsed": 229,
     "status": "ok",
     "timestamp": 1726698506924,
     "user": {
      "displayName": "Mena Whalen",
      "userId": "13683391233796222202"
     },
     "user_tz": 300
    },
    "id": "dId3Ze4WOc62",
    "outputId": "b7fcc2e6-5efe-43b5-8acf-c348feeb1201"
   },
   "outputs": [],
   "source": [
    "cubs['win_perc'] = cubs.W/cubs.G\n",
    "\n",
    "max(cubs.win_perc)\n",
    "\n",
    "cubs[cubs['win_perc'] == max(cubs.win_perc)]"
   ]
  },
  {
   "cell_type": "code",
   "execution_count": 3,
   "metadata": {
    "colab": {
     "base_uri": "https://localhost:8080/",
     "height": 235
    },
    "executionInfo": {
     "elapsed": 190,
     "status": "ok",
     "timestamp": 1726698565493,
     "user": {
      "displayName": "Mena Whalen",
      "userId": "13683391233796222202"
     },
     "user_tz": 300
    },
    "id": "tZMLNZB8QPdg",
    "outputId": "b2f856f7-f396-4568-a6c7-934cf1a93014"
   },
   "outputs": [
    {
     "data": {
      "text/html": [
       "<div>\n",
       "<style scoped>\n",
       "    .dataframe tbody tr th:only-of-type {\n",
       "        vertical-align: middle;\n",
       "    }\n",
       "\n",
       "    .dataframe tbody tr th {\n",
       "        vertical-align: top;\n",
       "    }\n",
       "\n",
       "    .dataframe thead th {\n",
       "        text-align: right;\n",
       "    }\n",
       "</style>\n",
       "<table border=\"1\" class=\"dataframe\">\n",
       "  <thead>\n",
       "    <tr style=\"text-align: right;\">\n",
       "      <th></th>\n",
       "      <th>Year</th>\n",
       "      <th>Tm</th>\n",
       "      <th>Lg</th>\n",
       "      <th>G</th>\n",
       "      <th>W</th>\n",
       "      <th>L</th>\n",
       "      <th>Ties</th>\n",
       "      <th>W-L%</th>\n",
       "      <th>pythW-L%</th>\n",
       "      <th>Finish</th>\n",
       "      <th>...</th>\n",
       "      <th>Playoffs</th>\n",
       "      <th>R</th>\n",
       "      <th>RA</th>\n",
       "      <th>Attendance</th>\n",
       "      <th>BatAge</th>\n",
       "      <th>PAge</th>\n",
       "      <th>#Bat</th>\n",
       "      <th>#P</th>\n",
       "      <th>Top Player</th>\n",
       "      <th>Managers</th>\n",
       "    </tr>\n",
       "  </thead>\n",
       "  <tbody>\n",
       "    <tr>\n",
       "      <th>0</th>\n",
       "      <td>2022</td>\n",
       "      <td>Chicago Cubs</td>\n",
       "      <td>NL Central</td>\n",
       "      <td>125</td>\n",
       "      <td>54</td>\n",
       "      <td>71</td>\n",
       "      <td>0</td>\n",
       "      <td>0.432</td>\n",
       "      <td>0.436</td>\n",
       "      <td>3rd of 5</td>\n",
       "      <td>...</td>\n",
       "      <td>NaN</td>\n",
       "      <td>518</td>\n",
       "      <td>596</td>\n",
       "      <td>2163550.0</td>\n",
       "      <td>28.1</td>\n",
       "      <td>29.8</td>\n",
       "      <td>57</td>\n",
       "      <td>37</td>\n",
       "      <td>N.Hoerner (4.2)</td>\n",
       "      <td>D.Ross (54-71)</td>\n",
       "    </tr>\n",
       "    <tr>\n",
       "      <th>1</th>\n",
       "      <td>2021</td>\n",
       "      <td>Chicago Cubs</td>\n",
       "      <td>NL Central</td>\n",
       "      <td>162</td>\n",
       "      <td>71</td>\n",
       "      <td>91</td>\n",
       "      <td>0</td>\n",
       "      <td>0.438</td>\n",
       "      <td>0.421</td>\n",
       "      <td>4th of 5</td>\n",
       "      <td>...</td>\n",
       "      <td>NaN</td>\n",
       "      <td>705</td>\n",
       "      <td>839</td>\n",
       "      <td>1978934.0</td>\n",
       "      <td>29.1</td>\n",
       "      <td>29.4</td>\n",
       "      <td>69</td>\n",
       "      <td>40</td>\n",
       "      <td>W.Contreras (4.1)</td>\n",
       "      <td>D.Ross (71-91)</td>\n",
       "    </tr>\n",
       "    <tr>\n",
       "      <th>2</th>\n",
       "      <td>2020</td>\n",
       "      <td>Chicago Cubs</td>\n",
       "      <td>NL Central</td>\n",
       "      <td>60</td>\n",
       "      <td>34</td>\n",
       "      <td>26</td>\n",
       "      <td>0</td>\n",
       "      <td>0.567</td>\n",
       "      <td>0.545</td>\n",
       "      <td>1st of 5</td>\n",
       "      <td>...</td>\n",
       "      <td>Lost NLWC (2-0)</td>\n",
       "      <td>265</td>\n",
       "      <td>240</td>\n",
       "      <td>NaN</td>\n",
       "      <td>27.9</td>\n",
       "      <td>30.3</td>\n",
       "      <td>47</td>\n",
       "      <td>26</td>\n",
       "      <td>Y.Darvish (2.8)</td>\n",
       "      <td>D.Ross (34-26)</td>\n",
       "    </tr>\n",
       "    <tr>\n",
       "      <th>3</th>\n",
       "      <td>2019</td>\n",
       "      <td>Chicago Cubs</td>\n",
       "      <td>NL Central</td>\n",
       "      <td>162</td>\n",
       "      <td>84</td>\n",
       "      <td>78</td>\n",
       "      <td>0</td>\n",
       "      <td>0.519</td>\n",
       "      <td>0.558</td>\n",
       "      <td>3rd of 5</td>\n",
       "      <td>...</td>\n",
       "      <td>NaN</td>\n",
       "      <td>814</td>\n",
       "      <td>717</td>\n",
       "      <td>3094865.0</td>\n",
       "      <td>27.7</td>\n",
       "      <td>31.1</td>\n",
       "      <td>52</td>\n",
       "      <td>33</td>\n",
       "      <td>J.Baez (6.6)</td>\n",
       "      <td>J.Maddon (84-78)</td>\n",
       "    </tr>\n",
       "    <tr>\n",
       "      <th>4</th>\n",
       "      <td>2018</td>\n",
       "      <td>Chicago Cubs</td>\n",
       "      <td>NL Central</td>\n",
       "      <td>163</td>\n",
       "      <td>95</td>\n",
       "      <td>68</td>\n",
       "      <td>0</td>\n",
       "      <td>0.583</td>\n",
       "      <td>0.575</td>\n",
       "      <td>2nd of 5</td>\n",
       "      <td>...</td>\n",
       "      <td>Lost NLWC (1-0)</td>\n",
       "      <td>761</td>\n",
       "      <td>645</td>\n",
       "      <td>3181089.0</td>\n",
       "      <td>27.2</td>\n",
       "      <td>30.2</td>\n",
       "      <td>50</td>\n",
       "      <td>35</td>\n",
       "      <td>J.Baez (6.4)</td>\n",
       "      <td>J.Maddon (95-68)</td>\n",
       "    </tr>\n",
       "  </tbody>\n",
       "</table>\n",
       "<p>5 rows × 21 columns</p>\n",
       "</div>"
      ],
      "text/plain": [
       "   Year            Tm          Lg    G   W   L  Ties   W-L%  pythW-L%  \\\n",
       "0  2022  Chicago Cubs  NL Central  125  54  71     0  0.432     0.436   \n",
       "1  2021  Chicago Cubs  NL Central  162  71  91     0  0.438     0.421   \n",
       "2  2020  Chicago Cubs  NL Central   60  34  26     0  0.567     0.545   \n",
       "3  2019  Chicago Cubs  NL Central  162  84  78     0  0.519     0.558   \n",
       "4  2018  Chicago Cubs  NL Central  163  95  68     0  0.583     0.575   \n",
       "\n",
       "     Finish  ...         Playoffs    R   RA  Attendance  BatAge  PAge  #Bat  \\\n",
       "0  3rd of 5  ...              NaN  518  596   2163550.0    28.1  29.8    57   \n",
       "1  4th of 5  ...              NaN  705  839   1978934.0    29.1  29.4    69   \n",
       "2  1st of 5  ...  Lost NLWC (2-0)  265  240         NaN    27.9  30.3    47   \n",
       "3  3rd of 5  ...              NaN  814  717   3094865.0    27.7  31.1    52   \n",
       "4  2nd of 5  ...  Lost NLWC (1-0)  761  645   3181089.0    27.2  30.2    50   \n",
       "\n",
       "   #P         Top Player          Managers  \n",
       "0  37    N.Hoerner (4.2)    D.Ross (54-71)  \n",
       "1  40  W.Contreras (4.1)    D.Ross (71-91)  \n",
       "2  26    Y.Darvish (2.8)    D.Ross (34-26)  \n",
       "3  33       J.Baez (6.6)  J.Maddon (84-78)  \n",
       "4  35       J.Baez (6.4)  J.Maddon (95-68)  \n",
       "\n",
       "[5 rows x 21 columns]"
      ]
     },
     "execution_count": 3,
     "metadata": {},
     "output_type": "execute_result"
    }
   ],
   "source": [
    "cubs = pd.read_csv(\"https://raw.githubusercontent.com/menawhalen/DSCI_401/main/data/cubs_all_time.csv\")\n",
    "cubs.head()"
   ]
  }
 ],
 "metadata": {
  "colab": {
   "authorship_tag": "ABX9TyMKJilIyd4WcRmUiZDyF8tS",
   "provenance": []
  },
  "kernelspec": {
   "display_name": "Python (DSCI 401)",
   "language": "python",
   "name": "dsci401"
  },
  "language_info": {
   "codemirror_mode": {
    "name": "ipython",
    "version": 3
   },
   "file_extension": ".py",
   "mimetype": "text/x-python",
   "name": "python",
   "nbconvert_exporter": "python",
   "pygments_lexer": "ipython3",
   "version": "3.9.6"
  }
 },
 "nbformat": 4,
 "nbformat_minor": 4
}
