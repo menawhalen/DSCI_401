{
 "cells": [
  {
   "cell_type": "code",
   "execution_count": 7,
   "id": "95213a28-949b-4443-b7a2-bc3560df02e9",
   "metadata": {},
   "outputs": [
    {
     "data": {
      "text/html": [
       "<div>\n",
       "<style scoped>\n",
       "    .dataframe tbody tr th:only-of-type {\n",
       "        vertical-align: middle;\n",
       "    }\n",
       "\n",
       "    .dataframe tbody tr th {\n",
       "        vertical-align: top;\n",
       "    }\n",
       "\n",
       "    .dataframe thead th {\n",
       "        text-align: right;\n",
       "    }\n",
       "</style>\n",
       "<table border=\"1\" class=\"dataframe\">\n",
       "  <thead>\n",
       "    <tr style=\"text-align: right;\">\n",
       "      <th></th>\n",
       "      <th>country</th>\n",
       "      <th>pop</th>\n",
       "      <th>area</th>\n",
       "      <th>oil_prod</th>\n",
       "      <th>gdp</th>\n",
       "      <th>educ</th>\n",
       "      <th>roadways</th>\n",
       "      <th>net_users</th>\n",
       "    </tr>\n",
       "  </thead>\n",
       "  <tbody>\n",
       "    <tr>\n",
       "      <th>0</th>\n",
       "      <td>Afghanistan</td>\n",
       "      <td>32564342</td>\n",
       "      <td>652230.0</td>\n",
       "      <td>0.0</td>\n",
       "      <td>1900.0</td>\n",
       "      <td>NaN</td>\n",
       "      <td>0.064624</td>\n",
       "      <td>&gt;5%</td>\n",
       "    </tr>\n",
       "    <tr>\n",
       "      <th>1</th>\n",
       "      <td>Albania</td>\n",
       "      <td>3029278</td>\n",
       "      <td>28748.0</td>\n",
       "      <td>20510.0</td>\n",
       "      <td>11900.0</td>\n",
       "      <td>3.3</td>\n",
       "      <td>0.626131</td>\n",
       "      <td>&gt;35%</td>\n",
       "    </tr>\n",
       "    <tr>\n",
       "      <th>2</th>\n",
       "      <td>Algeria</td>\n",
       "      <td>39542166</td>\n",
       "      <td>2381741.0</td>\n",
       "      <td>1420000.0</td>\n",
       "      <td>14500.0</td>\n",
       "      <td>4.3</td>\n",
       "      <td>0.047719</td>\n",
       "      <td>&gt;15%</td>\n",
       "    </tr>\n",
       "    <tr>\n",
       "      <th>3</th>\n",
       "      <td>American Samoa</td>\n",
       "      <td>54343</td>\n",
       "      <td>199.0</td>\n",
       "      <td>0.0</td>\n",
       "      <td>13000.0</td>\n",
       "      <td>NaN</td>\n",
       "      <td>1.211055</td>\n",
       "      <td>NaN</td>\n",
       "    </tr>\n",
       "    <tr>\n",
       "      <th>4</th>\n",
       "      <td>Andorra</td>\n",
       "      <td>85580</td>\n",
       "      <td>468.0</td>\n",
       "      <td>NaN</td>\n",
       "      <td>37200.0</td>\n",
       "      <td>NaN</td>\n",
       "      <td>0.683761</td>\n",
       "      <td>&gt;60%</td>\n",
       "    </tr>\n",
       "  </tbody>\n",
       "</table>\n",
       "</div>"
      ],
      "text/plain": [
       "          country       pop       area   oil_prod      gdp  educ  roadways  \\\n",
       "0     Afghanistan  32564342   652230.0        0.0   1900.0   NaN  0.064624   \n",
       "1         Albania   3029278    28748.0    20510.0  11900.0   3.3  0.626131   \n",
       "2         Algeria  39542166  2381741.0  1420000.0  14500.0   4.3  0.047719   \n",
       "3  American Samoa     54343      199.0        0.0  13000.0   NaN  1.211055   \n",
       "4         Andorra     85580      468.0        NaN  37200.0   NaN  0.683761   \n",
       "\n",
       "  net_users  \n",
       "0       >5%  \n",
       "1      >35%  \n",
       "2      >15%  \n",
       "3       NaN  \n",
       "4      >60%  "
      ]
     },
     "execution_count": 7,
     "metadata": {},
     "output_type": "execute_result"
    }
   ],
   "source": [
    "import pandas as pd\n",
    "cia = pd.read_csv(\"https://raw.githubusercontent.com/menawhalen/DSCI_401/refs/heads/main/data/CIACountries.csv\")\n",
    "cia.head() ## \n",
    "\n",
    "#teams = pd.read_csv(\"../../data/Teams.csv\")\n",
    "#print(teams)"
   ]
  },
  {
   "cell_type": "code",
   "execution_count": null,
   "id": "fb449ed2-5544-461c-aca5-de45a4d2d657",
   "metadata": {},
   "outputs": [],
   "source": []
  },
  {
   "cell_type": "code",
   "execution_count": 4,
   "id": "4360f965-b8d4-4039-a5de-4d5888bfb7c2",
   "metadata": {},
   "outputs": [
    {
     "data": {
      "text/html": [
       "<div>\n",
       "<style scoped>\n",
       "    .dataframe tbody tr th:only-of-type {\n",
       "        vertical-align: middle;\n",
       "    }\n",
       "\n",
       "    .dataframe tbody tr th {\n",
       "        vertical-align: top;\n",
       "    }\n",
       "\n",
       "    .dataframe thead th {\n",
       "        text-align: right;\n",
       "    }\n",
       "</style>\n",
       "<table border=\"1\" class=\"dataframe\">\n",
       "  <thead>\n",
       "    <tr style=\"text-align: right;\">\n",
       "      <th></th>\n",
       "      <th>country</th>\n",
       "      <th>pop</th>\n",
       "    </tr>\n",
       "  </thead>\n",
       "  <tbody>\n",
       "    <tr>\n",
       "      <th>42</th>\n",
       "      <td>China</td>\n",
       "      <td>1367485388</td>\n",
       "    </tr>\n",
       "    <tr>\n",
       "      <th>96</th>\n",
       "      <td>India</td>\n",
       "      <td>1251695584</td>\n",
       "    </tr>\n",
       "    <tr>\n",
       "      <th>223</th>\n",
       "      <td>United States</td>\n",
       "      <td>321368864</td>\n",
       "    </tr>\n",
       "    <tr>\n",
       "      <th>97</th>\n",
       "      <td>Indonesia</td>\n",
       "      <td>255993674</td>\n",
       "    </tr>\n",
       "    <tr>\n",
       "      <th>27</th>\n",
       "      <td>Brazil</td>\n",
       "      <td>204259812</td>\n",
       "    </tr>\n",
       "  </tbody>\n",
       "</table>\n",
       "</div>"
      ],
      "text/plain": [
       "           country         pop\n",
       "42           China  1367485388\n",
       "96           India  1251695584\n",
       "223  United States   321368864\n",
       "97       Indonesia   255993674\n",
       "27          Brazil   204259812"
      ]
     },
     "execution_count": 4,
     "metadata": {},
     "output_type": "execute_result"
    }
   ],
   "source": [
    "cia[[\"country\",\"pop\"]].sort_values(by = \"pop\", ascending = False).head(5)"
   ]
  },
  {
   "cell_type": "code",
   "execution_count": 8,
   "id": "9c564360-ed2d-4e03-87b8-ca20264b32df",
   "metadata": {},
   "outputs": [
    {
     "ename": "TypeError",
     "evalue": "'>' not supported between instances of 'method' and 'int'",
     "output_type": "error",
     "traceback": [
      "\u001b[0;31m---------------------------------------------------------------------------\u001b[0m",
      "\u001b[0;31mTypeError\u001b[0m                                 Traceback (most recent call last)",
      "Cell \u001b[0;32mIn[8], line 1\u001b[0m\n\u001b[0;32m----> 1\u001b[0m cia[\u001b[43mcia\u001b[49m\u001b[38;5;241;43m.\u001b[39;49m\u001b[43mpop\u001b[49m\u001b[43m \u001b[49m\u001b[38;5;241;43m>\u001b[39;49m\u001b[43m \u001b[49m\u001b[38;5;241;43m10000000\u001b[39;49m]\n\u001b[1;32m      2\u001b[0m \u001b[38;5;66;03m#cia[cia.pop > 10000000][[\"gdp\"]].agg([\"sum\"])\u001b[39;00m\n",
      "\u001b[0;31mTypeError\u001b[0m: '>' not supported between instances of 'method' and 'int'"
     ]
    }
   ],
   "source": [
    "cia[cia.pop > 10000000][[\"gdp\"]].sum()\n",
    "#cia[cia.pop > 10000000][[\"gdp\"]].agg([\"sum\"])"
   ]
  },
  {
   "cell_type": "code",
   "execution_count": null,
   "id": "cfd2f344-136b-47e5-847f-6ca1b64e1e4c",
   "metadata": {},
   "outputs": [],
   "source": [
    "cia[\"gdp_per_capita\"] = cia[\"gdp\"] / cia[\"population\"]\n",
    "cia[[\"country\",\"gdp_per_capita\"]].sort_values(by = \"gdp_per_capita\", ascending = False).head(1)"
   ]
  },
  {
   "cell_type": "code",
   "execution_count": null,
   "id": "0c5ba864-fbb4-4962-8405-5a3921d16fb0",
   "metadata": {},
   "outputs": [],
   "source": [
    "cia[cia.net_users == \">35%\"][[\"educ\"]].dropna(how=\"any\").agg([\"mean\"])"
   ]
  },
  {
   "cell_type": "code",
   "execution_count": null,
   "id": "2fed99e6-178a-48e6-93a4-7876982490b4",
   "metadata": {},
   "outputs": [],
   "source": [
    "cia[(cia.net_users == \">35%\") | (cia.net_users == \">60%\")][[\"educ\"]].dropna(how=\"any\").agg([\"mean\"])"
   ]
  },
  {
   "cell_type": "code",
   "execution_count": null,
   "id": "7ae10285-0c91-4524-9454-e011c0fb18f9",
   "metadata": {},
   "outputs": [],
   "source": [
    "cia[\"dens\"] = cia[\"population\"]/cia[\"area\"]\n",
    "cia.head()"
   ]
  },
  {
   "cell_type": "code",
   "execution_count": null,
   "id": "703d1f23-c010-40b4-bd36-7375255deb60",
   "metadata": {},
   "outputs": [],
   "source": [
    "cia[cia.gdp > 10000][[\"oil_prod\"]].agg([\"sum\"])"
   ]
  },
  {
   "cell_type": "code",
   "execution_count": null,
   "id": "dc94360e-ca06-4f90-a574-0381a198097c",
   "metadata": {},
   "outputs": [],
   "source": [
    "cia[\"oil\"] = cia.oil_prod > 0\n",
    "cia['area'].groupby(cia['oil']).mean()"
   ]
  },
  {
   "cell_type": "code",
   "execution_count": null,
   "id": "73032d8c-3e4c-493a-ab26-f7ceea7c0f4c",
   "metadata": {},
   "outputs": [],
   "source": []
  },
  {
   "cell_type": "code",
   "execution_count": null,
   "id": "5b6c15cf-c091-4635-aaac-f7d57543b5ab",
   "metadata": {},
   "outputs": [],
   "source": []
  },
  {
   "cell_type": "code",
   "execution_count": 9,
   "id": "88ed636b-9627-4626-9bc3-a1c82cf227c2",
   "metadata": {},
   "outputs": [
    {
     "name": "stdout",
     "output_type": "stream",
     "text": [
      "    species     island  bill_length_mm  bill_depth_mm  flipper_length_mm  \\\n",
      "0    Adelie  Torgersen            39.1           18.7              181.0   \n",
      "1    Adelie  Torgersen            39.5           17.4              186.0   \n",
      "2    Adelie  Torgersen            40.3           18.0              195.0   \n",
      "3    Adelie  Torgersen             NaN            NaN                NaN   \n",
      "4    Adelie  Torgersen            36.7           19.3              193.0   \n",
      "..      ...        ...             ...            ...                ...   \n",
      "339  Gentoo     Biscoe             NaN            NaN                NaN   \n",
      "340  Gentoo     Biscoe            46.8           14.3              215.0   \n",
      "341  Gentoo     Biscoe            50.4           15.7              222.0   \n",
      "342  Gentoo     Biscoe            45.2           14.8              212.0   \n",
      "343  Gentoo     Biscoe            49.9           16.1              213.0   \n",
      "\n",
      "     body_mass_g     sex  \n",
      "0         3750.0    Male  \n",
      "1         3800.0  Female  \n",
      "2         3250.0  Female  \n",
      "3            NaN     NaN  \n",
      "4         3450.0  Female  \n",
      "..           ...     ...  \n",
      "339          NaN     NaN  \n",
      "340       4850.0  Female  \n",
      "341       5750.0    Male  \n",
      "342       5200.0  Female  \n",
      "343       5400.0    Male  \n",
      "\n",
      "[344 rows x 7 columns]\n"
     ]
    }
   ],
   "source": [
    "import seaborn as sns\n",
    "penguins = sns.load_dataset(\"penguins\")\n",
    "print(penguins)"
   ]
  },
  {
   "cell_type": "code",
   "execution_count": 8,
   "id": "382f75b0-8c3e-4abb-a6be-d92bf3b8120a",
   "metadata": {},
   "outputs": [
    {
     "ename": "NameError",
     "evalue": "name 'penguins' is not defined",
     "output_type": "error",
     "traceback": [
      "\u001b[0;31m---------------------------------------------------------------------------\u001b[0m",
      "\u001b[0;31mNameError\u001b[0m                                 Traceback (most recent call last)",
      "Cell \u001b[0;32mIn[8], line 1\u001b[0m\n\u001b[0;32m----> 1\u001b[0m \u001b[43mpenguins\u001b[49m\u001b[38;5;241m.\u001b[39mgroupby(\u001b[38;5;124m\"\u001b[39m\u001b[38;5;124msex\u001b[39m\u001b[38;5;124m\"\u001b[39m)[[\u001b[38;5;124m\"\u001b[39m\u001b[38;5;124mbill_length_mm\u001b[39m\u001b[38;5;124m\"\u001b[39m]]\u001b[38;5;241m.\u001b[39mmean()\n",
      "\u001b[0;31mNameError\u001b[0m: name 'penguins' is not defined"
     ]
    }
   ],
   "source": [
    "penguins.groupby(\"sex\")[[\"bill_length_mm\"]].mean()"
   ]
  },
  {
   "cell_type": "code",
   "execution_count": null,
   "id": "bcdf9e68-a226-4aa3-b7dd-b65bed9b1ac5",
   "metadata": {},
   "outputs": [],
   "source": [
    "penguins.groupby([\"species\",\"island\"])[[\"body_mass_g\"]].max()"
   ]
  },
  {
   "cell_type": "code",
   "execution_count": 1,
   "id": "49fad9ca-3457-436e-9d24-bdc66901cec3",
   "metadata": {},
   "outputs": [
    {
     "ename": "SyntaxError",
     "evalue": "invalid syntax (311045316.py, line 1)",
     "output_type": "error",
     "traceback": [
      "\u001b[0;36m  Cell \u001b[0;32mIn[1], line 1\u001b[0;36m\u001b[0m\n\u001b[0;31m    pip install pylahman\u001b[0m\n\u001b[0m        ^\u001b[0m\n\u001b[0;31mSyntaxError\u001b[0m\u001b[0;31m:\u001b[0m invalid syntax\n"
     ]
    }
   ],
   "source": [
    "#pip install pylahman\n",
    "import pylahman\n",
    "\n",
    "Pitching = pylahman.Pitching()\n",
    "print(Pitching.head())"
   ]
  },
  {
   "cell_type": "code",
   "execution_count": null,
   "id": "b49d58c1-2156-4812-900a-a6eed20f1c08",
   "metadata": {},
   "outputs": [],
   "source": []
  }
 ],
 "metadata": {
  "kernelspec": {
   "display_name": "Python (DSCI 401)",
   "language": "python",
   "name": "dsci401"
  },
  "language_info": {
   "codemirror_mode": {
    "name": "ipython",
    "version": 3
   },
   "file_extension": ".py",
   "mimetype": "text/x-python",
   "name": "python",
   "nbconvert_exporter": "python",
   "pygments_lexer": "ipython3",
   "version": "3.9.6"
  }
 },
 "nbformat": 4,
 "nbformat_minor": 5
}
