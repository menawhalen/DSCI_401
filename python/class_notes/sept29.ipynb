{
 "cells": [
  {
   "cell_type": "code",
   "execution_count": 2,
   "id": "13d04936-d9c1-43c8-a079-a015f5db0057",
   "metadata": {},
   "outputs": [],
   "source": [
    "\n",
    "import pandas as pd\n",
    "cubs  = pd.read_csv(\"../data/cubs_all_time.csv\")"
   ]
  },
  {
   "cell_type": "code",
   "execution_count": 3,
   "id": "2994aaf1-5dcd-4390-b153-762659714451",
   "metadata": {},
   "outputs": [
    {
     "data": {
      "text/plain": [
       "0                 Chicago Cubs\n",
       "1                 Chicago Cubs\n",
       "2                 Chicago Cubs\n",
       "3                 Chicago Cubs\n",
       "4                 Chicago Cubs\n",
       "                ...           \n",
       "142    Chicago White Stockings\n",
       "143    Chicago White Stockings\n",
       "144    Chicago White Stockings\n",
       "145    Chicago White Stockings\n",
       "146    Chicago White Stockings\n",
       "Name: Tm, Length: 147, dtype: object"
      ]
     },
     "execution_count": 3,
     "metadata": {},
     "output_type": "execute_result"
    }
   ],
   "source": [
    "cubs.Tm"
   ]
  },
  {
   "cell_type": "code",
   "execution_count": 4,
   "id": "8e784850-c31b-4309-ba6a-547a8f02eb03",
   "metadata": {},
   "outputs": [
    {
     "data": {
      "text/plain": [
       "{'Chicago Colts', 'Chicago Cubs', 'Chicago Orphans', 'Chicago White Stockings'}"
      ]
     },
     "execution_count": 4,
     "metadata": {},
     "output_type": "execute_result"
    }
   ],
   "source": [
    "set(cubs.Tm)"
   ]
  },
  {
   "cell_type": "code",
   "execution_count": 7,
   "id": "d80d9ff2-9fb1-4add-ac73-c437b6b4dccb",
   "metadata": {},
   "outputs": [
    {
     "data": {
      "text/plain": [
       "125    1897\n",
       "126    1896\n",
       "127    1895\n",
       "128    1894\n",
       "129    1893\n",
       "130    1892\n",
       "131    1891\n",
       "132    1890\n",
       "Name: Year, dtype: int64"
      ]
     },
     "execution_count": 7,
     "metadata": {},
     "output_type": "execute_result"
    }
   ],
   "source": [
    "cubs.Tm == 'Chicago Colts'\n",
    "cubs[cubs.Tm == 'Chicago Colts'].Year"
   ]
  },
  {
   "cell_type": "code",
   "execution_count": 8,
   "id": "9074601f-973d-4a2d-bd35-9c2a7aec631d",
   "metadata": {},
   "outputs": [
    {
     "data": {
      "text/plain": [
       "120    1902\n",
       "121    1901\n",
       "122    1900\n",
       "123    1899\n",
       "124    1898\n",
       "Name: Year, dtype: int64"
      ]
     },
     "execution_count": 8,
     "metadata": {},
     "output_type": "execute_result"
    }
   ],
   "source": [
    "cubs[cubs.Tm == 'Chicago Orphans'].Year"
   ]
  },
  {
   "cell_type": "code",
   "execution_count": 9,
   "id": "cc94707d-690a-48ea-91c4-993f6f91996c",
   "metadata": {},
   "outputs": [
    {
     "data": {
      "text/plain": [
       "54     1968\n",
       "55     1967\n",
       "56     1966\n",
       "57     1965\n",
       "58     1964\n",
       "       ... \n",
       "142    1880\n",
       "143    1879\n",
       "144    1878\n",
       "145    1877\n",
       "146    1876\n",
       "Name: Year, Length: 93, dtype: int64"
      ]
     },
     "execution_count": 9,
     "metadata": {},
     "output_type": "execute_result"
    }
   ],
   "source": [
    "cubs[cubs.Lg == \"NL\"].Year"
   ]
  }
 ],
 "metadata": {
  "kernelspec": {
   "display_name": "Python (DSCI 401)",
   "language": "python",
   "name": "dsci401"
  },
  "language_info": {
   "codemirror_mode": {
    "name": "ipython",
    "version": 3
   },
   "file_extension": ".py",
   "mimetype": "text/x-python",
   "name": "python",
   "nbconvert_exporter": "python",
   "pygments_lexer": "ipython3",
   "version": "3.9.6"
  }
 },
 "nbformat": 4,
 "nbformat_minor": 5
}
