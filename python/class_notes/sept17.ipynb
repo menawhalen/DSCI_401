{
 "cells": [
  {
   "cell_type": "code",
   "execution_count": 3,
   "id": "86066ca6-bdc2-4b31-b618-515076f0b042",
   "metadata": {},
   "outputs": [
    {
     "name": "stdout",
     "output_type": "stream",
     "text": [
      "1\n",
      "3\n",
      "5\n",
      "7\n",
      "9\n",
      "11\n",
      "13\n",
      "15\n",
      "17\n",
      "19\n"
     ]
    }
   ],
   "source": [
    "for i in range(10):   \n",
    "    print(2 * i + 1)"
   ]
  },
  {
   "cell_type": "code",
   "execution_count": 4,
   "id": "1af11315-d989-436b-95ec-5916d48d5138",
   "metadata": {},
   "outputs": [
    {
     "name": "stdout",
     "output_type": "stream",
     "text": [
      "1\n",
      "3\n",
      "3\n",
      "5\n",
      "5\n",
      "7\n",
      "7\n",
      "9\n",
      "9\n",
      "11\n",
      "11\n",
      "13\n",
      "13\n",
      "15\n",
      "15\n",
      "17\n",
      "17\n",
      "19\n",
      "19\n",
      "21\n"
     ]
    }
   ],
   "source": [
    "for i in range(1, 21):  \n",
    "    if i % 2 == 1:     \n",
    "        print(i)\n",
    "    else:\n",
    "        print(i + 1)"
   ]
  },
  {
   "cell_type": "code",
   "execution_count": 5,
   "id": "20969ede-225c-4578-9cd0-a0e8d06544b3",
   "metadata": {},
   "outputs": [
    {
     "name": "stdout",
     "output_type": "stream",
     "text": [
      "1\n",
      "1\n",
      "2\n",
      "3\n",
      "5\n",
      "8\n",
      "13\n",
      "21\n",
      "34\n",
      "55\n",
      "89\n",
      "144\n"
     ]
    }
   ],
   "source": [
    "x, y = 1, 1\n",
    "print(x)\n",
    "print(y)\n",
    "\n",
    "for i in range(10):\n",
    "    s = x + y\n",
    "    print(s)\n",
    "    x, y = y, s "
   ]
  },
  {
   "cell_type": "code",
   "execution_count": 7,
   "id": "daa0bfdf-44f0-4c6e-a7b0-a0e49445607f",
   "metadata": {},
   "outputs": [
    {
     "data": {
      "text/plain": [
       "[1,\n",
       " 1,\n",
       " 2,\n",
       " 3,\n",
       " 5,\n",
       " 8,\n",
       " 13,\n",
       " 21,\n",
       " 34,\n",
       " 55,\n",
       " 89,\n",
       " 144,\n",
       " 233,\n",
       " 377,\n",
       " 610,\n",
       " 987,\n",
       " 1597,\n",
       " 2584,\n",
       " 4181,\n",
       " 6765]"
      ]
     },
     "execution_count": 7,
     "metadata": {},
     "output_type": "execute_result"
    }
   ],
   "source": [
    "fib_list = [1, 1]  \n",
    "\n",
    "for i in range(2, 100):  # Python is 0-indexed\n",
    "    fib_list.append(fib_list[i-1] + fib_list[i-2])\n",
    "\n",
    "fib_list[:20]"
   ]
  },
  {
   "cell_type": "code",
   "execution_count": 1,
   "id": "6cd64eb0-6ffd-432f-a3de-645353df48b3",
   "metadata": {},
   "outputs": [
    {
     "data": {
      "text/plain": [
       "833"
      ]
     },
     "execution_count": 1,
     "metadata": {},
     "output_type": "execute_result"
    }
   ],
   "source": [
    "x = 5\n",
    "1000*x/9.6\n",
    "round(1000*x/9.6)\n",
    "\n",
    "def num_of_bricks(x):\n",
    "  return round(1000*x/9.6)\n",
    "\n",
    "num_of_bricks(3)\n",
    "\n",
    "## using the while loop\n",
    "def num_of_bricks(x):\n",
    "  bricks = 0\n",
    "  while 9.6*bricks < 1000*x:\n",
    "    bricks += 1\n",
    "  return bricks\n",
    "\n",
    "num_of_bricks(4)\n",
    "\n",
    "## make a square\n",
    "def num_of_bricks_square(lenght, width):\n",
    "  bricks = 0\n",
    "  while 9.6*bricks < 1000*lenght*width:\n",
    "    bricks += 1\n",
    "  return bricks\n",
    "\n",
    "num_of_bricks_square(2,4)\n",
    "\n",
    "## other way\n",
    "def num_of_bricks_square(lenght, width):\n",
    "  return round(1000*lenght*width/9.6)\n",
    "\n",
    "num_of_bricks_square(2,4)"
   ]
  }
 ],
 "metadata": {
  "kernelspec": {
   "display_name": "Python (DSCI 401)",
   "language": "python",
   "name": "dsci401"
  },
  "language_info": {
   "codemirror_mode": {
    "name": "ipython",
    "version": 3
   },
   "file_extension": ".py",
   "mimetype": "text/x-python",
   "name": "python",
   "nbconvert_exporter": "python",
   "pygments_lexer": "ipython3",
   "version": "3.9.6"
  }
 },
 "nbformat": 4,
 "nbformat_minor": 5
}
