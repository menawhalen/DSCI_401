{
 "cells": [
  {
   "cell_type": "markdown",
   "metadata": {
    "id": "Qay_Zay-DkJr"
   },
   "source": [
    "## Reshaping Data"
   ]
  },
  {
   "cell_type": "code",
   "execution_count": 1,
   "metadata": {
    "colab": {
     "base_uri": "https://localhost:8080/",
     "height": 143
    },
    "executionInfo": {
     "elapsed": 1348,
     "status": "ok",
     "timestamp": 1729698437343,
     "user": {
      "displayName": "Mena Whalen",
      "userId": "13683391233796222202"
     },
     "user_tz": 300
    },
    "id": "WSJQmoEFDxsm",
    "outputId": "addcb0e1-3edd-4739-9c2e-03d53524fa6e"
   },
   "outputs": [
    {
     "data": {
      "text/html": [
       "<div>\n",
       "<style scoped>\n",
       "    .dataframe tbody tr th:only-of-type {\n",
       "        vertical-align: middle;\n",
       "    }\n",
       "\n",
       "    .dataframe tbody tr th {\n",
       "        vertical-align: top;\n",
       "    }\n",
       "\n",
       "    .dataframe thead th {\n",
       "        text-align: right;\n",
       "    }\n",
       "</style>\n",
       "<table border=\"1\" class=\"dataframe\">\n",
       "  <thead>\n",
       "    <tr style=\"text-align: right;\">\n",
       "      <th></th>\n",
       "      <th>subject</th>\n",
       "      <th>before</th>\n",
       "      <th>after</th>\n",
       "    </tr>\n",
       "  </thead>\n",
       "  <tbody>\n",
       "    <tr>\n",
       "      <th>0</th>\n",
       "      <td>BHO</td>\n",
       "      <td>160</td>\n",
       "      <td>115</td>\n",
       "    </tr>\n",
       "    <tr>\n",
       "      <th>1</th>\n",
       "      <td>GWB</td>\n",
       "      <td>120</td>\n",
       "      <td>135</td>\n",
       "    </tr>\n",
       "    <tr>\n",
       "      <th>2</th>\n",
       "      <td>WJC</td>\n",
       "      <td>105</td>\n",
       "      <td>145</td>\n",
       "    </tr>\n",
       "  </tbody>\n",
       "</table>\n",
       "</div>"
      ],
      "text/plain": [
       "  subject  before  after\n",
       "0     BHO     160    115\n",
       "1     GWB     120    135\n",
       "2     WJC     105    145"
      ]
     },
     "execution_count": 1,
     "metadata": {},
     "output_type": "execute_result"
    }
   ],
   "source": [
    "import pandas as pd\n",
    "df_wide = {\"subject\" : [\"BHO\",\"GWB\",\"WJC\"],\n",
    "      \"before\" : [160,120, 105],\n",
    "      \"after\" : [115, 135, 145]}\n",
    "\n",
    "BP_wide = pd.DataFrame(df_wide)\n",
    "BP_wide"
   ]
  },
  {
   "cell_type": "code",
   "execution_count": 2,
   "metadata": {
    "colab": {
     "base_uri": "https://localhost:8080/",
     "height": 237
    },
    "executionInfo": {
     "elapsed": 203,
     "status": "ok",
     "timestamp": 1729698776666,
     "user": {
      "displayName": "Mena Whalen",
      "userId": "13683391233796222202"
     },
     "user_tz": 300
    },
    "id": "Y3JgldBeFLZM",
    "outputId": "2bd3bc2e-fce5-41a3-856d-0f2d41b21691"
   },
   "outputs": [
    {
     "data": {
      "text/html": [
       "<div>\n",
       "<style scoped>\n",
       "    .dataframe tbody tr th:only-of-type {\n",
       "        vertical-align: middle;\n",
       "    }\n",
       "\n",
       "    .dataframe tbody tr th {\n",
       "        vertical-align: top;\n",
       "    }\n",
       "\n",
       "    .dataframe thead th {\n",
       "        text-align: right;\n",
       "    }\n",
       "</style>\n",
       "<table border=\"1\" class=\"dataframe\">\n",
       "  <thead>\n",
       "    <tr style=\"text-align: right;\">\n",
       "      <th></th>\n",
       "      <th>subject</th>\n",
       "      <th>when</th>\n",
       "      <th>sbp</th>\n",
       "    </tr>\n",
       "  </thead>\n",
       "  <tbody>\n",
       "    <tr>\n",
       "      <th>0</th>\n",
       "      <td>BHO</td>\n",
       "      <td>before</td>\n",
       "      <td>160</td>\n",
       "    </tr>\n",
       "    <tr>\n",
       "      <th>1</th>\n",
       "      <td>GWB</td>\n",
       "      <td>before</td>\n",
       "      <td>120</td>\n",
       "    </tr>\n",
       "    <tr>\n",
       "      <th>2</th>\n",
       "      <td>WJC</td>\n",
       "      <td>before</td>\n",
       "      <td>105</td>\n",
       "    </tr>\n",
       "    <tr>\n",
       "      <th>3</th>\n",
       "      <td>BHO</td>\n",
       "      <td>after</td>\n",
       "      <td>115</td>\n",
       "    </tr>\n",
       "    <tr>\n",
       "      <th>4</th>\n",
       "      <td>GWB</td>\n",
       "      <td>after</td>\n",
       "      <td>135</td>\n",
       "    </tr>\n",
       "    <tr>\n",
       "      <th>5</th>\n",
       "      <td>WJC</td>\n",
       "      <td>after</td>\n",
       "      <td>145</td>\n",
       "    </tr>\n",
       "  </tbody>\n",
       "</table>\n",
       "</div>"
      ],
      "text/plain": [
       "  subject    when  sbp\n",
       "0     BHO  before  160\n",
       "1     GWB  before  120\n",
       "2     WJC  before  105\n",
       "3     BHO   after  115\n",
       "4     GWB   after  135\n",
       "5     WJC   after  145"
      ]
     },
     "execution_count": 2,
     "metadata": {},
     "output_type": "execute_result"
    }
   ],
   "source": [
    "df_narrow = {\"subject\" : [\"BHO\",\"GWB\",\"WJC\",\"BHO\",\"GWB\",\"WJC\"],\n",
    "             \"when\" : [\"before\",\"before\",\"before\",\"after\",\"after\",\"after\"],\n",
    "             \"sbp\" : [160,120,105,115,135,145]}\n",
    "\n",
    "BP_narrow = pd.DataFrame(df_narrow)\n",
    "BP_narrow\n"
   ]
  },
  {
   "cell_type": "markdown",
   "metadata": {
    "id": "LH5D6cetGuE6"
   },
   "source": [
    "1. `pivot()`: Long to Wide Format\n",
    "\n",
    "On the other hand, `pivot()` is used to reshape data from a long format back into a wide format. It allows you to create new columns from unique values in a specified column, distributing the data over those new columns.\n",
    "\n",
    "```\n",
    "pandas.pivot(data, index=None, columns=None, values=None)\n",
    "```\n",
    "\n",
    "- `data`: The DataFrame you want to reshape (in long format).\n",
    "\n",
    "- `index`: The column whose unique values will form the row labels (index).\n",
    "\n",
    "- `columns`: The column whose unique values will become the new columns in the reshaped DataFrame.\n",
    "\n",
    "- `values`: The column that contains the values you want to spread across the new columns (the data to fill the reshaped DataFrame)."
   ]
  },
  {
   "cell_type": "markdown",
   "metadata": {
    "id": "gBlKWh47Hp94"
   },
   "source": []
  },
  {
   "cell_type": "code",
   "execution_count": 3,
   "metadata": {
    "colab": {
     "base_uri": "https://localhost:8080/",
     "height": 237
    },
    "executionInfo": {
     "elapsed": 214,
     "status": "ok",
     "timestamp": 1729698793253,
     "user": {
      "displayName": "Mena Whalen",
      "userId": "13683391233796222202"
     },
     "user_tz": 300
    },
    "id": "tYDXG7wAFQCX",
    "outputId": "581385fc-bbdf-42a8-9a99-79e84f437e15"
   },
   "outputs": [
    {
     "data": {
      "text/html": [
       "<div>\n",
       "<style scoped>\n",
       "    .dataframe tbody tr th:only-of-type {\n",
       "        vertical-align: middle;\n",
       "    }\n",
       "\n",
       "    .dataframe tbody tr th {\n",
       "        vertical-align: top;\n",
       "    }\n",
       "\n",
       "    .dataframe thead th {\n",
       "        text-align: right;\n",
       "    }\n",
       "</style>\n",
       "<table border=\"1\" class=\"dataframe\">\n",
       "  <thead>\n",
       "    <tr style=\"text-align: right;\">\n",
       "      <th>when</th>\n",
       "      <th>after</th>\n",
       "      <th>before</th>\n",
       "    </tr>\n",
       "  </thead>\n",
       "  <tbody>\n",
       "    <tr>\n",
       "      <th>0</th>\n",
       "      <td>NaN</td>\n",
       "      <td>160.0</td>\n",
       "    </tr>\n",
       "    <tr>\n",
       "      <th>1</th>\n",
       "      <td>NaN</td>\n",
       "      <td>120.0</td>\n",
       "    </tr>\n",
       "    <tr>\n",
       "      <th>2</th>\n",
       "      <td>NaN</td>\n",
       "      <td>105.0</td>\n",
       "    </tr>\n",
       "    <tr>\n",
       "      <th>3</th>\n",
       "      <td>115.0</td>\n",
       "      <td>NaN</td>\n",
       "    </tr>\n",
       "    <tr>\n",
       "      <th>4</th>\n",
       "      <td>135.0</td>\n",
       "      <td>NaN</td>\n",
       "    </tr>\n",
       "    <tr>\n",
       "      <th>5</th>\n",
       "      <td>145.0</td>\n",
       "      <td>NaN</td>\n",
       "    </tr>\n",
       "  </tbody>\n",
       "</table>\n",
       "</div>"
      ],
      "text/plain": [
       "when  after  before\n",
       "0       NaN   160.0\n",
       "1       NaN   120.0\n",
       "2       NaN   105.0\n",
       "3     115.0     NaN\n",
       "4     135.0     NaN\n",
       "5     145.0     NaN"
      ]
     },
     "execution_count": 3,
     "metadata": {},
     "output_type": "execute_result"
    }
   ],
   "source": [
    "#Not really what you want.\n",
    "pd.pivot(BP_narrow, columns= \"when\", values=\"sbp\")"
   ]
  },
  {
   "cell_type": "code",
   "execution_count": 4,
   "metadata": {
    "colab": {
     "base_uri": "https://localhost:8080/",
     "height": 175
    },
    "executionInfo": {
     "elapsed": 214,
     "status": "ok",
     "timestamp": 1729698821515,
     "user": {
      "displayName": "Mena Whalen",
      "userId": "13683391233796222202"
     },
     "user_tz": 300
    },
    "id": "rHIom5YyFWl7",
    "outputId": "e55f1e4a-93bb-4857-c640-04909dfc9beb"
   },
   "outputs": [
    {
     "data": {
      "text/html": [
       "<div>\n",
       "<style scoped>\n",
       "    .dataframe tbody tr th:only-of-type {\n",
       "        vertical-align: middle;\n",
       "    }\n",
       "\n",
       "    .dataframe tbody tr th {\n",
       "        vertical-align: top;\n",
       "    }\n",
       "\n",
       "    .dataframe thead th {\n",
       "        text-align: right;\n",
       "    }\n",
       "</style>\n",
       "<table border=\"1\" class=\"dataframe\">\n",
       "  <thead>\n",
       "    <tr style=\"text-align: right;\">\n",
       "      <th>when</th>\n",
       "      <th>after</th>\n",
       "      <th>before</th>\n",
       "    </tr>\n",
       "    <tr>\n",
       "      <th>subject</th>\n",
       "      <th></th>\n",
       "      <th></th>\n",
       "    </tr>\n",
       "  </thead>\n",
       "  <tbody>\n",
       "    <tr>\n",
       "      <th>BHO</th>\n",
       "      <td>115</td>\n",
       "      <td>160</td>\n",
       "    </tr>\n",
       "    <tr>\n",
       "      <th>GWB</th>\n",
       "      <td>135</td>\n",
       "      <td>120</td>\n",
       "    </tr>\n",
       "    <tr>\n",
       "      <th>WJC</th>\n",
       "      <td>145</td>\n",
       "      <td>105</td>\n",
       "    </tr>\n",
       "  </tbody>\n",
       "</table>\n",
       "</div>"
      ],
      "text/plain": [
       "when     after  before\n",
       "subject               \n",
       "BHO        115     160\n",
       "GWB        135     120\n",
       "WJC        145     105"
      ]
     },
     "execution_count": 4,
     "metadata": {},
     "output_type": "execute_result"
    }
   ],
   "source": [
    "#pivoting wider: Narrow to wide\n",
    "#This is what you want!\n",
    "pd.pivot(BP_narrow, index = \"subject\", columns= \"when\", values=\"sbp\")"
   ]
  },
  {
   "cell_type": "markdown",
   "metadata": {
    "id": "fjslA5jaGYHW"
   },
   "source": [
    "2. `melt()`: Wide to Long Format\n",
    "\n",
    "`melt()` is used to \"unpivot\" a dataset from a wide format to a long format. It takes columns that are usually spread across multiple fields and condenses them into two columns: one for variable names and one for their values. This is especially useful when you want to aggregate or group data based on specific variable values.\n",
    "\n",
    "```\n",
    "pandas.melt(frame, id_vars=None, value_vars=None, var_name=None, value_name='value', col_level=None, ignore_index=True)\n",
    "```\n",
    "\n",
    "- `frame`: The DataFrame that you want to reshape.\n",
    "\n",
    "- `id_vars`: Columns that should remain the same (identifiers). These columns won't be melted.\n",
    "\n",
    "- `value_vars`: The columns you want to melt (those that will be \"unpivoted\" into a long format). If not provided, all columns except the id_vars will be melted by default.\n",
    "\n",
    "- `var_name`: The name of the new column that will hold the old column names. If not specified, this column will be named variable by default.\n",
    "\n",
    "- `value_name`: The name of the new column that will hold the values from the melted columns. If not specified, this column will be named value by default.\n",
    "\n"
   ]
  },
  {
   "cell_type": "code",
   "execution_count": 5,
   "metadata": {
    "colab": {
     "base_uri": "https://localhost:8080/",
     "height": 237
    },
    "executionInfo": {
     "elapsed": 485,
     "status": "ok",
     "timestamp": 1729698854842,
     "user": {
      "displayName": "Mena Whalen",
      "userId": "13683391233796222202"
     },
     "user_tz": 300
    },
    "id": "PlVHT23eFb59",
    "outputId": "ec3abda9-38d5-4236-b664-ae3b59003d53"
   },
   "outputs": [
    {
     "data": {
      "text/html": [
       "<div>\n",
       "<style scoped>\n",
       "    .dataframe tbody tr th:only-of-type {\n",
       "        vertical-align: middle;\n",
       "    }\n",
       "\n",
       "    .dataframe tbody tr th {\n",
       "        vertical-align: top;\n",
       "    }\n",
       "\n",
       "    .dataframe thead th {\n",
       "        text-align: right;\n",
       "    }\n",
       "</style>\n",
       "<table border=\"1\" class=\"dataframe\">\n",
       "  <thead>\n",
       "    <tr style=\"text-align: right;\">\n",
       "      <th></th>\n",
       "      <th>subject</th>\n",
       "      <th>when</th>\n",
       "      <th>bp</th>\n",
       "    </tr>\n",
       "  </thead>\n",
       "  <tbody>\n",
       "    <tr>\n",
       "      <th>0</th>\n",
       "      <td>BHO</td>\n",
       "      <td>before</td>\n",
       "      <td>160</td>\n",
       "    </tr>\n",
       "    <tr>\n",
       "      <th>1</th>\n",
       "      <td>GWB</td>\n",
       "      <td>before</td>\n",
       "      <td>120</td>\n",
       "    </tr>\n",
       "    <tr>\n",
       "      <th>2</th>\n",
       "      <td>WJC</td>\n",
       "      <td>before</td>\n",
       "      <td>105</td>\n",
       "    </tr>\n",
       "    <tr>\n",
       "      <th>3</th>\n",
       "      <td>BHO</td>\n",
       "      <td>after</td>\n",
       "      <td>115</td>\n",
       "    </tr>\n",
       "    <tr>\n",
       "      <th>4</th>\n",
       "      <td>GWB</td>\n",
       "      <td>after</td>\n",
       "      <td>135</td>\n",
       "    </tr>\n",
       "    <tr>\n",
       "      <th>5</th>\n",
       "      <td>WJC</td>\n",
       "      <td>after</td>\n",
       "      <td>145</td>\n",
       "    </tr>\n",
       "  </tbody>\n",
       "</table>\n",
       "</div>"
      ],
      "text/plain": [
       "  subject    when   bp\n",
       "0     BHO  before  160\n",
       "1     GWB  before  120\n",
       "2     WJC  before  105\n",
       "3     BHO   after  115\n",
       "4     GWB   after  135\n",
       "5     WJC   after  145"
      ]
     },
     "execution_count": 5,
     "metadata": {},
     "output_type": "execute_result"
    }
   ],
   "source": [
    "#Use melt to go wide to narrow\n",
    "#pd.melt(df, id_vars=, value_vars=, var_name=, value_name=, ignore_index=)\n",
    "pd.melt(BP_wide, id_vars = \"subject\",value_vars = [\"before\",\"after\"], value_name = \"bp\", var_name = \"when\")"
   ]
  },
  {
   "cell_type": "markdown",
   "metadata": {
    "id": "IWrvO9BLFjuF"
   },
   "source": [
    "In class exercises:\n",
    "\n",
    "- Find the most gender neutral name\n",
    "- What name saw the biggest drop from 1900 to 1950? How about from 1950 to 2000?"
   ]
  },
  {
   "cell_type": "code",
   "execution_count": 11,
   "metadata": {
    "colab": {
     "base_uri": "https://localhost:8080/"
    },
    "executionInfo": {
     "elapsed": 2374,
     "status": "ok",
     "timestamp": 1729720063181,
     "user": {
      "displayName": "Mena Whalen",
      "userId": "13683391233796222202"
     },
     "user_tz": 300
    },
    "id": "-YHYcibXFoUo",
    "outputId": "cc78f554-09ab-46ee-d127-2aeab1fb68ae"
   },
   "outputs": [
    {
     "data": {
      "text/plain": [
       "(1924665, 5)"
      ]
     },
     "execution_count": 11,
     "metadata": {},
     "output_type": "execute_result"
    }
   ],
   "source": [
    "import pandas as pd \n",
    "\n",
    "babynames = pd.read_csv(\"https://raw.githubusercontent.com/gjm112/DSCI401/main/data/babynames.csv\")\n",
    "babynames.head()\n",
    "\n",
    "babynames.shape"
   ]
  },
  {
   "cell_type": "code",
   "execution_count": 12,
   "metadata": {
    "colab": {
     "base_uri": "https://localhost:8080/",
     "height": 206
    },
    "executionInfo": {
     "elapsed": 153,
     "status": "ok",
     "timestamp": 1729719117078,
     "user": {
      "displayName": "Mena Whalen",
      "userId": "13683391233796222202"
     },
     "user_tz": 300
    },
    "id": "VK3XTDkxRXzt",
    "outputId": "71ffef3e-e2d4-463c-b6a7-725e9e2b5716"
   },
   "outputs": [
    {
     "data": {
      "text/html": [
       "<div>\n",
       "<style scoped>\n",
       "    .dataframe tbody tr th:only-of-type {\n",
       "        vertical-align: middle;\n",
       "    }\n",
       "\n",
       "    .dataframe tbody tr th {\n",
       "        vertical-align: top;\n",
       "    }\n",
       "\n",
       "    .dataframe thead th {\n",
       "        text-align: right;\n",
       "    }\n",
       "</style>\n",
       "<table border=\"1\" class=\"dataframe\">\n",
       "  <thead>\n",
       "    <tr style=\"text-align: right;\">\n",
       "      <th></th>\n",
       "      <th>species</th>\n",
       "      <th>island</th>\n",
       "      <th>bill_length_mm</th>\n",
       "      <th>bill_depth_mm</th>\n",
       "      <th>flipper_length_mm</th>\n",
       "      <th>body_mass_g</th>\n",
       "      <th>sex</th>\n",
       "    </tr>\n",
       "  </thead>\n",
       "  <tbody>\n",
       "    <tr>\n",
       "      <th>0</th>\n",
       "      <td>Adelie</td>\n",
       "      <td>Torgersen</td>\n",
       "      <td>39.1</td>\n",
       "      <td>18.7</td>\n",
       "      <td>181.0</td>\n",
       "      <td>3750.0</td>\n",
       "      <td>Male</td>\n",
       "    </tr>\n",
       "    <tr>\n",
       "      <th>1</th>\n",
       "      <td>Adelie</td>\n",
       "      <td>Torgersen</td>\n",
       "      <td>39.5</td>\n",
       "      <td>17.4</td>\n",
       "      <td>186.0</td>\n",
       "      <td>3800.0</td>\n",
       "      <td>Female</td>\n",
       "    </tr>\n",
       "    <tr>\n",
       "      <th>2</th>\n",
       "      <td>Adelie</td>\n",
       "      <td>Torgersen</td>\n",
       "      <td>40.3</td>\n",
       "      <td>18.0</td>\n",
       "      <td>195.0</td>\n",
       "      <td>3250.0</td>\n",
       "      <td>Female</td>\n",
       "    </tr>\n",
       "    <tr>\n",
       "      <th>3</th>\n",
       "      <td>Adelie</td>\n",
       "      <td>Torgersen</td>\n",
       "      <td>NaN</td>\n",
       "      <td>NaN</td>\n",
       "      <td>NaN</td>\n",
       "      <td>NaN</td>\n",
       "      <td>NaN</td>\n",
       "    </tr>\n",
       "    <tr>\n",
       "      <th>4</th>\n",
       "      <td>Adelie</td>\n",
       "      <td>Torgersen</td>\n",
       "      <td>36.7</td>\n",
       "      <td>19.3</td>\n",
       "      <td>193.0</td>\n",
       "      <td>3450.0</td>\n",
       "      <td>Female</td>\n",
       "    </tr>\n",
       "  </tbody>\n",
       "</table>\n",
       "</div>"
      ],
      "text/plain": [
       "  species     island  bill_length_mm  bill_depth_mm  flipper_length_mm  \\\n",
       "0  Adelie  Torgersen            39.1           18.7              181.0   \n",
       "1  Adelie  Torgersen            39.5           17.4              186.0   \n",
       "2  Adelie  Torgersen            40.3           18.0              195.0   \n",
       "3  Adelie  Torgersen             NaN            NaN                NaN   \n",
       "4  Adelie  Torgersen            36.7           19.3              193.0   \n",
       "\n",
       "   body_mass_g     sex  \n",
       "0       3750.0    Male  \n",
       "1       3800.0  Female  \n",
       "2       3250.0  Female  \n",
       "3          NaN     NaN  \n",
       "4       3450.0  Female  "
      ]
     },
     "execution_count": 12,
     "metadata": {},
     "output_type": "execute_result"
    }
   ],
   "source": [
    "import seaborn as sns\n",
    "penguins = sns.load_dataset(\"penguins\")\n",
    "penguins.head()"
   ]
  },
  {
   "cell_type": "code",
   "execution_count": 13,
   "metadata": {
    "colab": {
     "base_uri": "https://localhost:8080/",
     "height": 206
    },
    "executionInfo": {
     "elapsed": 163,
     "status": "ok",
     "timestamp": 1729719282195,
     "user": {
      "displayName": "Mena Whalen",
      "userId": "13683391233796222202"
     },
     "user_tz": 300
    },
    "id": "9GwdKLR_SzTB",
    "outputId": "4d1b98aa-07c2-44b9-d2b8-53c9ffec9f06"
   },
   "outputs": [
    {
     "data": {
      "text/html": [
       "<div>\n",
       "<style scoped>\n",
       "    .dataframe tbody tr th:only-of-type {\n",
       "        vertical-align: middle;\n",
       "    }\n",
       "\n",
       "    .dataframe tbody tr th {\n",
       "        vertical-align: top;\n",
       "    }\n",
       "\n",
       "    .dataframe thead th {\n",
       "        text-align: right;\n",
       "    }\n",
       "</style>\n",
       "<table border=\"1\" class=\"dataframe\">\n",
       "  <thead>\n",
       "    <tr style=\"text-align: right;\">\n",
       "      <th></th>\n",
       "      <th>sex</th>\n",
       "      <th>species</th>\n",
       "      <th>island</th>\n",
       "      <th>measurement</th>\n",
       "      <th>value</th>\n",
       "    </tr>\n",
       "  </thead>\n",
       "  <tbody>\n",
       "    <tr>\n",
       "      <th>0</th>\n",
       "      <td>Male</td>\n",
       "      <td>Adelie</td>\n",
       "      <td>Torgersen</td>\n",
       "      <td>bill_length_mm</td>\n",
       "      <td>39.1</td>\n",
       "    </tr>\n",
       "    <tr>\n",
       "      <th>1</th>\n",
       "      <td>Female</td>\n",
       "      <td>Adelie</td>\n",
       "      <td>Torgersen</td>\n",
       "      <td>bill_length_mm</td>\n",
       "      <td>39.5</td>\n",
       "    </tr>\n",
       "    <tr>\n",
       "      <th>2</th>\n",
       "      <td>Female</td>\n",
       "      <td>Adelie</td>\n",
       "      <td>Torgersen</td>\n",
       "      <td>bill_length_mm</td>\n",
       "      <td>40.3</td>\n",
       "    </tr>\n",
       "    <tr>\n",
       "      <th>3</th>\n",
       "      <td>NaN</td>\n",
       "      <td>Adelie</td>\n",
       "      <td>Torgersen</td>\n",
       "      <td>bill_length_mm</td>\n",
       "      <td>NaN</td>\n",
       "    </tr>\n",
       "    <tr>\n",
       "      <th>4</th>\n",
       "      <td>Female</td>\n",
       "      <td>Adelie</td>\n",
       "      <td>Torgersen</td>\n",
       "      <td>bill_length_mm</td>\n",
       "      <td>36.7</td>\n",
       "    </tr>\n",
       "  </tbody>\n",
       "</table>\n",
       "</div>"
      ],
      "text/plain": [
       "      sex species     island     measurement  value\n",
       "0    Male  Adelie  Torgersen  bill_length_mm   39.1\n",
       "1  Female  Adelie  Torgersen  bill_length_mm   39.5\n",
       "2  Female  Adelie  Torgersen  bill_length_mm   40.3\n",
       "3     NaN  Adelie  Torgersen  bill_length_mm    NaN\n",
       "4  Female  Adelie  Torgersen  bill_length_mm   36.7"
      ]
     },
     "execution_count": 13,
     "metadata": {},
     "output_type": "execute_result"
    }
   ],
   "source": [
    "peng_long = pd.melt(penguins, id_vars = [\"sex\", \"species\", \"island\"],  value_name = \"value\", var_name = \"measurement\")\n",
    "\n",
    "peng_long.head()"
   ]
  },
  {
   "cell_type": "code",
   "execution_count": 18,
   "metadata": {
    "colab": {
     "base_uri": "https://localhost:8080/",
     "height": 371
    },
    "executionInfo": {
     "elapsed": 1579,
     "status": "ok",
     "timestamp": 1729719847003,
     "user": {
      "displayName": "Mena Whalen",
      "userId": "13683391233796222202"
     },
     "user_tz": 300
    },
    "id": "cbr3CzkxTbkh",
    "outputId": "665db58e-1e87-4a3d-cfbb-acc0edc02565"
   },
   "outputs": [
    {
     "data": {
      "text/plain": [
       "<seaborn.axisgrid.FacetGrid at 0x30a0b94c0>"
      ]
     },
     "execution_count": 18,
     "metadata": {},
     "output_type": "execute_result"
    },
    {
     "data": {
      "image/png": "[encoded data removed]",
      "text/plain": [
       "<Figure size 1200x300 with 4 Axes>"
      ]
     },
     "metadata": {},
     "output_type": "display_data"
    }
   ],
   "source": [
    "## visualize boxplots of each species and facet by each measure\n",
    "import seaborn as sns\n",
    "\n",
    "g = sns.FacetGrid(peng_long, col= \"measurement\",  sharey= False, sharex = False)\n",
    "g.map_dataframe(sns.boxplot, x=\"value\")"
   ]
  }
 ],
 "metadata": {
  "colab": {
   "authorship_tag": "ABX9TyPg5NwKct/56oO3dMBd6wW4",
   "provenance": []
  },
  "kernelspec": {
   "display_name": "Python (DSCI 401)",
   "language": "python",
   "name": "dsci401"
  },
  "language_info": {
   "codemirror_mode": {
    "name": "ipython",
    "version": 3
   },
   "file_extension": ".py",
   "mimetype": "text/x-python",
   "name": "python",
   "nbconvert_exporter": "python",
   "pygments_lexer": "ipython3",
   "version": "3.9.6"
  }
 },
 "nbformat": 4,
 "nbformat_minor": 4
}
