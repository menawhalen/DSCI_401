{
 "cells": [
  {
   "cell_type": "code",
   "execution_count": null,
   "metadata": {},
   "outputs": [],
   "source": []
  },
  {
   "cell_type": "markdown",
   "metadata": {
    "editable": true,
    "id": "jpTrEYWNCR25",
    "slideshow": {
     "slide_type": ""
    },
    "tags": []
   },
   "source": [
    "# Introduction to Python\n",
    "\n",
    "## What is Python?\n",
    "Python is a versatile programming language known for its readability and wide range of applications, from web development to data analysis. It's often the first choice for beginners due to its simple syntax and extensive community support.\n",
    "\n",
    "## What is JupyterLab?\n",
    "JupyterLab is the next-generation web-based interactive development environment for notebooks, code, and data. It extends the classic Jupyter Notebook interface with flexible layouts, file browsers, terminals, and rich support for many file types — all inside a single integrated workspace.\n",
    "\n",
    "## The Jupyter Ecosystem (“JupyterVerse”)\n",
    "Jupyter is more than just notebooks — it’s a whole ecosystem of tools designed to make interactive computing easier and more productive:\n",
    "\n",
    "- Jupyter Notebook: The original web app for interactive coding in notebooks.\n",
    "- JupyterLab: A powerful, flexible interface that builds on notebooks with IDE-like features.\n",
    "- JupyterHub: A multi-user server for running Jupyter for teams or classrooms on shared infrastructure.\n",
    "- Jupyter Kernels: Language backends that run your code — Python is the most common, but kernels exist for R, Julia, and many others.\n",
    "- nbconvert: A tool to convert notebooks to HTML, PDF, slides, and more.\n",
    "- Voila: Turn notebooks into standalone web apps without code cells visible.\n",
    "- Quarto: A publishing system built on Jupyter and Pandoc, letting you create scientific documents, presentations, and websites from .qmd files.\n",
    "\n",
    "### Key Features of Jupyter:\n",
    "- Multi-Document Interface: Work with multiple notebooks, terminals, text editors, and output panels side by side.\n",
    "- Extensible: Install extensions for Git integration, debugging, variable inspectors, and more.\n",
    "- Supports Notebooks and More: Open .ipynb notebooks, Markdown files, CSVs, JSON, images, and even Quarto .qmd documents.\n",
    "- Code Consoles: Run snip\n",
    "- pets interactively without cluttering your notebooks.\n",
    "- Real-Time Collaboration: Some extensions enable live sharing and collaboration.\n",
    "\n",
    "# How to Get Started with Jupyter Lab\n",
    "## Installing and Launching JupyterLab\n",
    "\n",
    "There are several ways to [install JupyterLab](https://jupyter.org/install) on your computer. Choose the method that works best for you.\n",
    "\n",
    "---\n",
    "\n",
    "1. Install JupyterLab directly with `pip`\n",
    "\n",
    "If you already have Python installed, you can install JupyterLab using `pip`:\n",
    "\n",
    "```bash\n",
    "pip install jupyterlab\n",
    "```\n",
    "After installation, you can launch JupyterLab from the terminal (Mac/Linux) or Command Prompt (Windows):\n",
    "```bash\n",
    "jupyter lab\n",
    "```\n",
    "\n",
    "This will open JupyterLab in your default web browser.\n",
    "\n",
    "2. Install JupyterLab using Anaconda\n",
    "\n",
    "[Anaconda](https://www.anaconda.com/docs/getting-started/anaconda/install) is a distribution of Python that comes with many scientific and data analysis packages pre-installed.\n",
    "\n",
    "- Download and install Anaconda for your operating system.\n",
    "\n",
    "- Open Anaconda Navigator (the app you installed).\n",
    "\n",
    "- From Navigator, you can launch JupyterLab with a single click.\n",
    "\n",
    "**Notes**:\n",
    "\n",
    "- JupyterLab runs locally in your browser — your notebooks are stored on your computer.\n",
    "\n",
    "- You only need to install it once. After that, just use jupyter lab (or Anaconda Navigator) to open it again.\n",
    "\n",
    "\n",
    "## Creating and Activating Your Virtual Environment\n",
    "\n",
    "1. We recommend creating a dedicated environment for the class to keep dependencies organized. From your terminal:\n",
    "\n",
    "```bash\n",
    "python -m venv dsci401\n",
    "source dsci401/bin/activate ## Mac/linux\n",
    "dsci401\\Scripts\\activate ## windows\n",
    "```\n",
    "\n",
    "2. Intsall required packages:\n",
    "\n",
    "```bash\n",
    "pip install jupyter ipykernal pandas numpy matplotlib\n",
    "```\n",
    "\n",
    "3. Linking Your Environment to JupyterLab\n",
    "Register your environment as a kernel so you can select it inside JupyterLab:\n",
    "```bash\n",
    "python -m ipykernel install --user --name=dsci401 --display-name \"Python (DSCI 401)\"\n",
    "```\n",
    "4. Launch JupyterLab in the Class Folder\n",
    "\n",
    "    1. Navigate to the course folder where you want to keep all notebooks and files:\n",
    "       ```bash\n",
    "       cd path/to/DSCI401\n",
    "       ```\n",
    "\n",
    "      2. Start JupyterLab\n",
    "  \n",
    "      ```bash\n",
    "      jupyter lab\n",
    "     ```\n",
    "     3. When JupyterLab opens, choose the Python (DSCI 401) kernel from the top-right dropdown.\n",
    "\n",
    "Recommended Workflow\n",
    "- Organization: Work inside the STAT_401 folder. Create subfolders for each week/project (e.g., week1/, week2/).\n",
    "\n",
    "- Saving Work: Save your notebook frequently with Ctrl + S or Cmd + S.\n",
    "\n",
    "- Using Markdown: Use Markdown cells to document your code and explain your analysis.\n",
    "\n",
    "- Shortcuts: Get familiar with Jupyter shortcuts like Shift + Enter to run cells.\n",
    "\n",
    "# Layout and Interface\n",
    "\n",
    "- **Main Work Area**: This is the central space where you edit and run your files. You’ll usually be working in a notebook (.ipynb) or a script (.py). Each file opens in its own tab, similar to a web browser.\n",
    "\n",
    "- **Launcher**: When JupyterLab first opens, you’ll see the Launcher tab. From here you can create new notebooks, text files, terminals, or open consoles.\n",
    "\n",
    "- **File Browser** (Left Sidebar): On the left-hand side is a file navigation pane. This lets you browse your directories and open files, much like a file explorer.\n",
    "\n",
    "- **Sidebar Tabs**:\n",
    "Also in the left sidebar, you can switch between tools such as the Running Terminals and Kernels panel (shows which notebooks and processes are active), the Table of Contents (if enabled), and the Extensions manager (probably don't use for now).\n",
    "\n",
    "- **Kernel**:\n",
    "Each notebook runs on a kernel, which is the computational engine that executes your code. For Python notebooks, you’ll see a Python kernel (e.g., Python 3). The current kernel is shown in the top-right of the notebook window. If your code seems “stuck” or you need to restart fresh, you can use the Kernel menu at the top to restart, interrupt, or change kernels. *Our class is using a specific DSCI 401 Kernal you just made*\n",
    "\n",
    "- **Variables/Inspector Panel**:\n",
    "On the right-hand side, you may see a tab called Variable Inspector (if installed), which shows the current variables in memory and their values. If you don’t see it, variables can still be printed directly in the notebook by calling them in a code cell.\n",
    "\n",
    "- **Status Bar (Bottom)**:\n",
    "The bottom of JupyterLab shows information such as which kernel is running, whether the notebook is saved, and background activity (like code execution).\n",
    "\n",
    "# Common File Types in Data Science\n",
    "\n",
    "When working in JupyterLab (or in general data science projects), you’ll often run into a variety of file types. Each serves a different purpose:\n",
    "\n",
    "1. Notebook files (.ipynb)\n",
    "\n",
    "- These are Jupyter Notebook files.\n",
    "\n",
    "- Contain a mix of code cells, Markdown (text) cells, and outputs (tables, plots, etc.).\n",
    "\n",
    "- Great for analysis, documentation, and reproducibility.\n",
    "\n",
    "- Example: analysis.ipynb\n",
    "\n",
    "2. Python scripts (.py)\n",
    "\n",
    "- Plain Python code files.\n",
    "\n",
    "- Often used to hold reusable functions or longer code that doesn’t need to live inside a notebook.\n",
    "\n",
    "- You can import them into a notebook with:\n",
    "\n",
    "```bash\n",
    "import script_name\n",
    "```\n",
    "- Example: helper_functions.py\n",
    "\n",
    "3. Data files\n",
    "\n",
    "- CSV (.csv) – Comma-separated values, a very common format for datasets.\n",
    "\n",
    "- Excel (.xlsx) – Spreadsheet files; can be read with pandas.\n",
    "\n",
    "- JSON (.json) – Structured data often used for web APIs.\n",
    "\n",
    "\n",
    "4. Configuration and environment files\n",
    "\n",
    "- requirements.txt – Lists Python packages your project needs.\n",
    "\n",
    "- environment.yml – Same idea, but used with Conda environments.\n",
    "\n",
    "- These help recreate the same setup across different computers.\n",
    "\n",
    "5. Other text-based files\n",
    "\n",
    "- Markdown (.md) – Simple formatting for documentation (used in GitHub READMEs).\n",
    "\n",
    "- Text (.txt) – Basic text files.\n",
    "\n",
    "- Quarto/LaTeX (.qmd, .tex) – For reports, articles, and presentations.\n",
    "\n",
    "Genernal Workflow:\n",
    "- Use notebooks (.ipynb) to explore and explain.\n",
    "\n",
    "- Use scripts (.py) to organize and reuse code.\n",
    "\n",
    "- Store your datasets in formats like CSV/Excel/Parquet.\n",
    "\n",
    "- Document your project with README.md and environment files.\n",
    "\n",
    "# Jupyter Notebook Toolbar Buttons (top of a notebook)\n",
    "\n",
    "1. Play / Run Cell Button ▶️\n",
    "\n",
    "- Runs the code in the current cell and moves to the next one.\n",
    "\n",
    "- Equivalent to pressing Shift + Enter.\n",
    "\n",
    "2. Stop / Interrupt Kernel ⏹ / ⏸️\n",
    "\n",
    "- Stops code that is currently running.\n",
    "\n",
    "- Useful if you accidentally run an infinite loop or a very long computation.\n",
    "\n",
    "3. Restart Kernel 🔄\n",
    "\n",
    "- Stops and restarts the kernel, clearing all variables in memory.\n",
    "\n",
    "- Use when things get messy or you want to start fresh.\n",
    "\n",
    "4. Bug / Debug Icon 🐞 \n",
    "\n",
    "- Runs the cell in debug mode.\n",
    "\n",
    "- Opens a panel showing all current variables and their values.\n",
    "\n",
    "- Lets you step through your code line by line, set breakpoints, and inspect variables — very handy for troubleshooting.\n",
    "\n",
    "5. Other common toolbar buttons\n",
    "\n",
    "- Save 💾 – Saves the notebook. Shortcut: Ctrl+S / Cmd+S.\n",
    "\n",
    "- Add Cell ➕ – Adds a new code or Markdown cell.\n",
    "\n",
    "- Cut / Copy / Paste Cells ✂️📋 – Reorganize your notebook cells.\n",
    "\n",
    "- Move Cell Up/Down ⬆️⬇️ – Rearrange cells without cutting/pasting.\n",
    "\n",
    "- Cell Type Dropdown – Switch a cell between Code, Markdown, or Raw.\n",
    "\n",
    "# Packages\n",
    "In Python, **packages** are collections of modules that provide additional functionality and tools, making it easier to perform specific tasks without having to write code from scratch. A package typically contains various functions, classes, and variables that you can use directly by importing the package into your Python script.\n",
    "\n",
    "Here are some commonly used packages:\n",
    "\n",
    "-   **`math`**: This package provides mathematical functions and constants, such as `sqrt` for square roots, `sin` for sine functions, and `pi` for the constant π.\n",
    "\n",
    "-   **`numpy`**: Short for Numerical Python, this package is essential for scientific computing. It offers support for large, multi-dimensional arrays and matrices, along with a wide variety of mathematical functions to operate on these arrays.\n",
    "\n",
    "-   **`pandas`**: This package is widely used for data manipulation and analysis. It allows for easy handling of structured data through its powerful data structures like DataFrames, which are similar to tables in a database or Excel spreadsheet.\n",
    "\n",
    "## What is a Kernel and Why Does It Matter?\n",
    "When you run Python code in JupyterLab (or any Jupyter interface), it runs inside a kernel — a computational engine that executes your code and keeps track of all variables and imports.\n",
    "\n",
    "Each kernel is tied to a specific Python environment, meaning it only has access to the packages installed in that environment.\n",
    "\n",
    "This is why:\n",
    "- If you open a notebook and use a kernel linked to a virtual environment where numpy or pandas is not installed, you will get an error when you try to import those packages.\n",
    "\n",
    "- Conversely, if you select the kernel connected to the environment where all required packages are installed (like the Python (DSCI 401) kernel we set up), your notebook will run smoothly.\n",
    "\n",
    "### How This Works in This Course\n",
    "- You will create a dedicated Python environment for this class (using venv or Conda).\n",
    "\n",
    "- You will install the packages we use (e.g., numpy, pandas) inside this environment.\n",
    "\n",
    "- You will register this environment as a kernel named Python (DSCI 401).\n",
    "\n",
    "When working in JupyterLab, always select this kernel for your notebooks to ensure you have access to all the packages you need."
   ]
  },
  {
   "cell_type": "code",
   "execution_count": 1,
   "metadata": {
    "id": "au0_te19bkVd"
   },
   "outputs": [],
   "source": [
    "# Importing necessary packages\n",
    "import math  # Math functions like sqrt, sin, etc.\n",
    "import numpy as np  # For array and matrix operations\n",
    "import pandas as pd  # For working with data frames\n"
   ]
  },
  {
   "cell_type": "markdown",
   "metadata": {
    "id": "lHIesXeTbxfV"
   },
   "source": [
    "\n",
    "# File Types and Comments in Python\n",
    "\n",
    "## Understanding File Types\n",
    "\n",
    "In Python, working with different file formats is a common task, especially when dealing with data analysis and storage. Here are some of the most common file types you might encounter:\n",
    "\n",
    "-   **CSV Files**:\n",
    "\n",
    "    -   CSV (Comma-Separated Values) files are plain text files used to store tabular data. They are widely used because they are simple and can be easily read and written by both humans and machines.\n",
    "\n",
    "    -   Example operations include reading a CSV file into a DataFrame and saving a DataFrame to a CSV file.\n",
    "\n",
    "-   **JSON Files**:\n",
    "\n",
    "    -   JSON (JavaScript Object Notation) files are used to store and exchange data in a lightweight and human-readable format. JSON is often used for transmitting data in web applications.\n",
    "\n",
    "    -   Python allows you to easily read data from a JSON file and write data back into it.\n",
    "\n",
    "-   **Pickle Files**:\n",
    "\n",
    "    -   Pickle is a Python-specific format used to serialize and deserialize Python objects. This format is useful for saving complex data structures like DataFrames or custom Python objects, so they can be easily loaded back into your program later.\n",
    "\n",
    "Here’s an illustrative example in Python (written as comments for explanation):"
   ]
  },
  {
   "cell_type": "code",
   "execution_count": 2,
   "metadata": {
    "colab": {
     "base_uri": "https://localhost:8080/",
     "height": 53
    },
    "id": "qd7NCn_4bqhb",
    "outputId": "249414b7-e718-4d12-a100-e8c3a4d7b8d4"
   },
   "outputs": [
    {
     "data": {
      "text/plain": [
       "\"\\n# Example: Reading and writing files in Python\\n# CSV files\\ndf = pd.read_csv('file.csv')\\ndf.to_csv('output.csv')\\n\\n# JSON files\\ndata = pd.read_json('data.json')\\ndata.to_json('output.json')\\n\\n# Pickle files (for saving Python objects)\\ndf.to_pickle('data.pkl')\\ndf = pd.read_pickle('data.pkl')\\n\""
      ]
     },
     "execution_count": 2,
     "metadata": {},
     "output_type": "execute_result"
    }
   ],
   "source": [
    "'''\n",
    "# Example: Reading and writing files in Python\n",
    "# CSV files\n",
    "df = pd.read_csv('file.csv')\n",
    "df.to_csv('output.csv')\n",
    "\n",
    "# JSON files\n",
    "data = pd.read_json('data.json')\n",
    "data.to_json('output.json')\n",
    "\n",
    "# Pickle files (for saving Python objects)\n",
    "df.to_pickle('data.pkl')\n",
    "df = pd.read_pickle('data.pkl')\n",
    "'''"
   ]
  },
  {
   "cell_type": "markdown",
   "metadata": {
    "id": "dhktcjl5cAN_"
   },
   "source": [
    "# Comments in Python\n",
    "\n",
    "Comments are an essential part of any programming language, and Python is no exception. They are used to explain the code, making it easier to understand for others (or for yourself when you come back to it later). Python supports two types of comments:\n",
    "\n",
    "-   **Single-line Comments**:\n",
    "\n",
    "    -   These begin with a `#` symbol and continue until the end of the line. They are used for brief explanations or annotations within the code.\n",
    "\n",
    "    -   Example: `# This is a single-line comment`\n",
    "\n",
    "-   **Multi-line Comments**:\n",
    "\n",
    "    -   Although Python doesn’t have a specific syntax for multi-line comments, a common practice is to use triple quotes (`''' or \"\"\"`) to comment out multiple lines of code. This can be useful when you want to temporarily disable a block of code or provide a detailed explanation.\n",
    "\n"
   ]
  },
  {
   "cell_type": "code",
   "execution_count": 3,
   "metadata": {
    "colab": {
     "base_uri": "https://localhost:8080/",
     "height": 36
    },
    "id": "e4NDTU3ScEu1",
    "outputId": "09f5291e-4b5b-448e-b28b-e1ea236af266"
   },
   "outputs": [
    {
     "data": {
      "text/plain": [
       "'\\nThis is a multi-line comment\\nIt can span several lines\\n'"
      ]
     },
     "execution_count": 3,
     "metadata": {},
     "output_type": "execute_result"
    }
   ],
   "source": [
    "# This is a single-line comment\n",
    "\n",
    "'''\n",
    "This is a multi-line comment\n",
    "It can span several lines\n",
    "'''\n"
   ]
  },
  {
   "cell_type": "markdown",
   "metadata": {
    "id": "nh2YZrrT02xf"
   },
   "source": [
    "# Assignment and Variable Types in Python\n",
    "\n",
    "## Understanding Variable Assignment\n",
    "\n",
    "In Python, variables are used to store data that can be used and manipulated throughout your code. You don’t need to declare the type of a variable explicitly, as Python is a dynamically typed language, meaning it infers the type based on the value assigned to the variable.\n",
    "\n",
    "### Example of Variable Types\n",
    "\n",
    "Here’s an example that demonstrates how Python handles different variable types:"
   ]
  },
  {
   "cell_type": "code",
   "execution_count": 4,
   "metadata": {
    "id": "Qbm6z5ohb947"
   },
   "outputs": [
    {
     "name": "stdout",
     "output_type": "stream",
     "text": [
      "<class 'int'>\n",
      "<class 'float'>\n",
      "<class 'str'>\n"
     ]
    }
   ],
   "source": [
    "# You do not HAVE to declare types in Python\n",
    "# But you can. This may help to avoid problems later on.\n",
    "\n",
    "height = 442  # 'height' is an integer (int)\n",
    "print(type(height))  # Output: <class 'int'>\n",
    "\n",
    "height = 442.0  # 'height' is now a floating-point number (float)\n",
    "print(type(height))  # Output: <class 'float'>\n",
    "\n",
    "height = 'really tall'  # 'height' is now a string (str)\n",
    "print(type(height))  # Output: <class 'str'>\n"
   ]
  },
  {
   "cell_type": "markdown",
   "metadata": {
    "editable": true,
    "id": "iXVqWTVi2msG",
    "slideshow": {
     "slide_type": ""
    },
    "tags": []
   },
   "source": [
    "In the above example, the variable `height` changes its type based on the value assigned to it. Python allows you to reassign variables to different types without any issues.\n",
    "\n",
    "### String Variables and Their Use\n",
    "\n",
    "Python supports various ways to create and manipulate strings:"
   ]
  },
  {
   "cell_type": "code",
   "execution_count": 5,
   "metadata": {
    "editable": true,
    "id": "EgsEe2ye2n55",
    "slideshow": {
     "slide_type": ""
    },
    "tags": []
   },
   "outputs": [
    {
     "name": "stdout",
     "output_type": "stream",
     "text": [
      "Yes\n",
      "Yup\n",
      "\n",
      "If you're happy and you know it\n",
      "clap your hands.\n",
      "Clap your hands.\n"
     ]
    }
   ],
   "source": [
    "a = 'Yes'\n",
    "b = \"Yup\"\n",
    "c = '''\n",
    "If you're happy and you know it\n",
    "clap your hands.\n",
    "Clap your hands.'''\n",
    "\n",
    "print(a)  # Output: Yes\n",
    "print(b)  # Output: Yup\n",
    "print(c)  # Output: The multi-line string\n"
   ]
  },
  {
   "cell_type": "markdown",
   "metadata": {
    "editable": true,
    "id": "wmfu_m6y2qLd",
    "slideshow": {
     "slide_type": ""
    },
    "tags": []
   },
   "source": [
    "Here, the variables `a`, `b`, and `c` are all strings, even though they are created using different quote styles (`'`, `\"`, and `'''`). Python supports single, double, and triple quotes for string creation. Triple quotes are particularly useful for multi-line strings.\n",
    "\n",
    "### Importance of Spaces and Case Sensitivity\n",
    "\n",
    "In Python, spacing inside strings and the case of variable names matter:"
   ]
  },
  {
   "cell_type": "code",
   "execution_count": 4,
   "metadata": {
    "editable": true,
    "id": "TAA6vDi72sf2",
    "slideshow": {
     "slide_type": ""
    },
    "tags": []
   },
   "outputs": [],
   "source": [
    "# Space outside quotes doesn't matter\n",
    "a = \"Yes\"  # This is the same as a =\"Yes\"\n",
    "\n",
    "# Space INSIDE quotes DOES matter\n",
    "a = \"Yes\"  # This is NOT the same as a = \" Yes\"\n",
    "\n",
    "# Python is case-sensitive! These are all different variables\n",
    "name = 'Wakko'\n",
    "Name = 'Yakko'\n",
    "NAME = 'Dot'\n"
   ]
  },
  {
   "cell_type": "markdown",
   "metadata": {
    "id": "Lbs28nOY2wKi"
   },
   "source": [
    "Here, `name`, `Name`, and `NAME` are considered different variables because Python is case-sensitive. Additionally, spacing within strings is important, as it affects how the string is stored and displayed.\n",
    "\n",
    "### Printing Variables and Text\n",
    "\n",
    "The `print()` function in Python is used to display text and variables:"
   ]
  },
  {
   "cell_type": "code",
   "execution_count": 5,
   "metadata": {
    "id": "dOqQSfYB2wxg"
   },
   "outputs": [
    {
     "name": "stdout",
     "output_type": "stream",
     "text": [
      "Hello Wakko\n",
      "Hello Yakko\n",
      "Hello Dot\n",
      "Hello World\n",
      "Wakko Yakko Dot\n",
      "Your name is Dot\n",
      "WakkoYakkoDot\n"
     ]
    }
   ],
   "source": [
    "# Use print to display a single line of text.\n",
    "print('Hello', name)  # Output: Hello Wakko\n",
    "print('Hello', Name)  # Output: Hello Yakko\n",
    "print('Hello', NAME)  # Output: Hello Dot\n",
    "\n",
    "# Language statements like 'print' are ALWAYS lowercase\n",
    "print(\"Hello World\")  # Correct usage\n",
    "# PRINT(\"Hello World\")  # This would cause an error\n",
    "\n",
    "# The default separator in print is a space.\n",
    "print(name, Name, NAME)  # Output: Wakko Yakko Dot\n",
    "print('Your name is', NAME)  # Output: Your name is Dot\n",
    "\n",
    "# Removing spaces between words in the output\n",
    "print(name, Name, NAME, sep=\"\")  # Output: WakkoYakkoDot\n"
   ]
  },
  {
   "cell_type": "markdown",
   "metadata": {
    "id": "3Tew7B5B2z8x"
   },
   "source": [
    "The `print()` function can take multiple arguments and by default, separates them with a space. You can customize the separator using the `sep` parameter, as shown in the last example.\n",
    "\n",
    "By understanding how to assign variables, the significance of spacing and case, and how to print text and variables, you’ll be able to write more effective and readable Python code."
   ]
  },
  {
   "cell_type": "markdown",
   "metadata": {
    "id": "2vigWuEecrLf"
   },
   "source": [
    "# Assignment and Variable Types in Python\n",
    "\n",
    "## Understanding Variable Assignment\n",
    "\n",
    "In Python, variables are used to store data that can be used and manipulated throughout your code. You don’t need to declare the type of a variable explicitly, as Python is a dynamically typed language, meaning it infers the type based on the value assigned to the variable.\n",
    "\n",
    "### Example of Variable Types\n",
    "\n",
    "Here’s an example that demonstrates how Python handles different variable types:"
   ]
  },
  {
   "cell_type": "code",
   "execution_count": null,
   "metadata": {
    "id": "OK5_5KwkczMR"
   },
   "outputs": [],
   "source": [
    "# You do not HAVE to declare types in Python\n",
    "# But you can. This may help to avoid problems later on.\n",
    "\n",
    "height = 442  # 'height' is an integer (int)\n",
    "print(type(height))  # Output: <class 'int'>\n",
    "\n",
    "height = 442.0  # 'height' is now a floating-point number (float)\n",
    "print(type(height))  # Output: <class 'float'>\n",
    "\n",
    "height = 'really tall'  # 'height' is now a string (str)\n",
    "print(type(height))  # Output: <class 'str'>\n",
    "\n"
   ]
  },
  {
   "cell_type": "markdown",
   "metadata": {
    "id": "6AyaCEn75zH-"
   },
   "source": [
    "In the above example, the variable `height` changes its type based on the value assigned to it. Python allows you to reassign variables to different types without any issues.\n",
    "\n",
    "### String Variables and Their Use\n",
    "\n",
    "Python supports various ways to create and manipulate strings:"
   ]
  },
  {
   "cell_type": "code",
   "execution_count": null,
   "metadata": {
    "id": "Fzn6GJSK51d4"
   },
   "outputs": [],
   "source": [
    "a = 'Yes'\n",
    "b = \"Yup\"\n",
    "c = '''\n",
    "If you're happy and you know it\n",
    "clap your hands.\n",
    "Clap your hands.'''\n",
    "\n",
    "print(a)  # Output: Yes\n",
    "print(b)  # Output: Yup\n",
    "print(c)  # Output: The multi-line string\n"
   ]
  },
  {
   "cell_type": "markdown",
   "metadata": {
    "id": "66bqPfnz56ZF"
   },
   "source": [
    "Here, the variables `a`, `b`, and `c` are all strings, even though they are created using different quote styles (`'`, `\"`, and `'''`). Python supports single, double, and triple quotes for string creation. Triple quotes are particularly useful for multi-line strings.\n",
    "\n",
    "### Importance of Spaces and Case Sensitivity\n",
    "\n",
    "In Python, spacing inside strings and the case of variable names matter:"
   ]
  },
  {
   "cell_type": "code",
   "execution_count": null,
   "metadata": {
    "id": "gHOfHu3l57Ek"
   },
   "outputs": [],
   "source": [
    "# Space outside quotes doesn't matter\n",
    "a = \"Yes\"  # This is the same as a =\"Yes\"\n",
    "\n",
    "# Space INSIDE quotes DOES matter\n",
    "a = \"Yes\"  # This is NOT the same as a = \" Yes\"\n",
    "\n",
    "# Python is case-sensitive! These are all different variables\n",
    "name = 'Wakko'\n",
    "Name = 'Yakko'\n",
    "NAME = 'Dot'\n"
   ]
  },
  {
   "cell_type": "markdown",
   "metadata": {
    "id": "zR7hZuLM5_Eo"
   },
   "source": [
    "Here, `name`, `Name`, and `NAME` are considered different variables because Python is case-sensitive. Additionally, spacing within strings is important, as it affects how the string is stored and displayed.\n",
    "\n",
    "### Printing Variables and Text\n",
    "\n",
    "The `print()` function in Python is used to display text and variables:\n"
   ]
  },
  {
   "cell_type": "code",
   "execution_count": null,
   "metadata": {
    "colab": {
     "base_uri": "https://localhost:8080/"
    },
    "id": "AfdjUTQW6BkP",
    "outputId": "4f4051eb-7f89-425c-a59c-67213559ce6e"
   },
   "outputs": [
    {
     "name": "stdout",
     "output_type": "stream",
     "text": [
      "Hello Wakko\n",
      "Hello Yakko\n",
      "Hello Dot\n",
      "Hello World\n",
      "Wakko Yakko Dot\n",
      "Your name is Dot\n",
      "WakkoYakkoDot\n"
     ]
    }
   ],
   "source": [
    "# Use print to display a single line of text.\n",
    "print('Hello', name)  # Output: Hello Wakko\n",
    "print('Hello', Name)  # Output: Hello Yakko\n",
    "print('Hello', NAME)  # Output: Hello Dot\n",
    "\n",
    "# Language statements like 'print' are ALWAYS lowercase\n",
    "print(\"Hello World\")  # Correct usage\n",
    "# PRINT(\"Hello World\")  # This would cause an error\n",
    "\n",
    "# The default separator in print is a space.\n",
    "print(name, Name, NAME)  # Output: Wakko Yakko Dot\n",
    "print('Your name is', NAME)  # Output: Your name is Dot\n",
    "\n",
    "# Removing spaces between words in the output\n",
    "print(name, Name, NAME, sep=\"\")  # Output: WakkoYakkoDot\n"
   ]
  },
  {
   "cell_type": "markdown",
   "metadata": {
    "id": "BmFq14q96EGa"
   },
   "source": [
    "The `print()` function can take multiple arguments and by default, separates them with a space. You can customize the separator using the `sep` parameter, as shown in the last example.\n",
    "\n",
    "By understanding how to assign variables, the significance of spacing and case, and how to print text and variables, you’ll be able to write more effective and readable Python code.\n",
    "\n",
    "# Values in Python\n",
    "\n",
    "## Numbers in Python\n",
    "\n",
    "Python supports four main types of numbers: Booleans, Integers, Floating-point numbers, and Complex numbers. Each type is used for different kinds of numerical operations and holds specific properties.\n",
    "\n",
    "### Booleans\n",
    "\n",
    "Booleans are a simple data type in Python that can hold one of two values: `True` or `False`. These values are useful in logical operations and control flow.\n"
   ]
  },
  {
   "cell_type": "code",
   "execution_count": null,
   "metadata": {
    "colab": {
     "base_uri": "https://localhost:8080/"
    },
    "id": "IsrLzRhQ6Fer",
    "outputId": "a599778a-550f-4c30-c5e4-3f39bb42ee42"
   },
   "outputs": [
    {
     "name": "stdout",
     "output_type": "stream",
     "text": [
      "c = 5\n",
      "d is False\n"
     ]
    }
   ],
   "source": [
    "# Booleans\n",
    "a = True\n",
    "b = False\n",
    "\n",
    "# True evaluates as 1 and False as 0\n",
    "c = 4 + True  # Adds 1 to 4, because True is equivalent to 1\n",
    "print('c =', c)  # Output: c = 5\n",
    "\n",
    "d = 0\n",
    "if d == False:  # Checking if 'd' is equivalent to False\n",
    "  print('d is False')  # Output: d is False\n"
   ]
  },
  {
   "cell_type": "markdown",
   "metadata": {
    "id": "sHSRmy7x6KvW"
   },
   "source": [
    "Booleans can be combined with other data types, such as integers, and used in logical comparisons.\n",
    "\n",
    "### Integers\n",
    "\n",
    "Integers are whole numbers, both positive and negative, including zero. They are of arbitrary size in Python, meaning they can grow as large as your memory allows."
   ]
  },
  {
   "cell_type": "code",
   "execution_count": null,
   "metadata": {
    "colab": {
     "base_uri": "https://localhost:8080/"
    },
    "id": "9789iVfS6LT1",
    "outputId": "fcd26978-7ccc-48fd-9320-3edb89dbb7f4"
   },
   "outputs": [
    {
     "name": "stdout",
     "output_type": "stream",
     "text": [
      "37 -29875486231854477 32680 527\n"
     ]
    }
   ],
   "source": [
    "# Integers\n",
    "a = 37\n",
    "b = -29875486231854477\n",
    "c = 0x7fa8  # Hexadecimal representation\n",
    "d = 0b1000001111  # Binary representation\n",
    "\n",
    "# Python supports both small and large integer values\n",
    "print(a, b, c, d)  # Output: 37 -29875486231854477 32680 527\n"
   ]
  },
  {
   "cell_type": "markdown",
   "metadata": {
    "id": "X00qoHZtcUyn"
   },
   "source": [
    "### Integer Operations\n",
    "\n",
    "Python provides various operators and functions to perform arithmetic operations on integers. These operations are fundamental to many programming tasks.\n",
    "\n",
    "#### Common Integer Operations:\n",
    "\n",
    "-   **\"+\" : Sum**\\\n",
    "    Adds two numbers together.\n",
    "\n",
    "-   **\"-\" : Difference**\\\n",
    "    Subtracts one number from another.\n",
    "\n",
    "-   **\"\\*\" : Product**\\\n",
    "    Multiplies two numbers together.\n",
    "\n",
    "-   **\"/\" : Quotient**\\\n",
    "    Divides one number by another. The result is a floating-point number.\n",
    "\n",
    "-   **\"//\" : Floored Quotient**\\\n",
    "    Divides one number by another and rounds down to the nearest integer.\n",
    "\n",
    "-   **\"%\" : Remainder (Modulus)**\\\n",
    "    Returns the remainder of a division operation.\n",
    "\n",
    "-   **`abs(x)` : Absolute Value**\\\n",
    "    Returns the absolute (non-negative) value of `x`.\n",
    "\n",
    "-   **`int(x)` : Convert to Integer**\\\n",
    "    Converts a number or string to an integer.\n",
    "\n",
    "-   **`float(x)` : Convert to Float**\\\n",
    "    Converts a number or string to a floating-point number.\n",
    "\n",
    "-   **`complex(re, im)` : Complex Number**\\\n",
    "    Creates a complex number with real part `re` and imaginary part `im`.\n",
    "\n",
    "-   **`c.conjugate()` : Conjugate of Complex Number `c`**\\\n",
    "    Returns the complex conjugate of the number `c`.\n",
    "\n",
    "-   **`divmod(x, y)` : Pair of `x // y` and `x % y`**\\\n",
    "    Returns a tuple containing the floored quotient and the remainder.\n",
    "\n",
    "-   **`pow(x, y)` : `x` to the Power of `y`**\\\n",
    "    Raises `x` to the power `y`.\n",
    "\n",
    "-   **`x ** y` : `x` to the Power of `y`**\\\n",
    "    Another way to raise `x` to the power `y`.\n"
   ]
  },
  {
   "cell_type": "code",
   "execution_count": 8,
   "metadata": {
    "colab": {
     "base_uri": "https://localhost:8080/"
    },
    "id": "9YwLsyt_dFJU",
    "outputId": "584ce734-8dee-4845-f821-c157e516ee07"
   },
   "outputs": [
    {
     "name": "stdout",
     "output_type": "stream",
     "text": [
      "5 + 4 = 9\n",
      "5 - 4 = 1\n",
      "5 * 4 = 20\n",
      "5 / 4 = 1.25\n",
      "5 // 4 = 1\n",
      "5 % 4 = 1\n",
      "abs(-5) = 5\n",
      "int(3.14) = 3\n",
      "float(5) = 5.0\n",
      "Complex number: (1+3j)\n",
      "Conjugate: (1-3j)\n",
      "2^3 = 8\n",
      "2^3 = 8\n",
      "divmod(12, 5) = (2, 2)\n"
     ]
    }
   ],
   "source": [
    "# Integer operations\n",
    "print(\"5 + 4 =\", 5 + 4)  # Sum: Output 5 + 4 = 9\n",
    "print(\"5 - 4 =\", 5 - 4)  # Difference: Output 5 - 4 = 1\n",
    "print(\"5 * 4 =\", 5 * 4)  # Product: Output 5 * 4 = 20\n",
    "print(\"5 / 4 =\", 5 / 4)  # Quotient: Output 5 / 4 = 1.25\n",
    "print(\"5 // 4 =\", 5 // 4)  # Floored quotient: Output 1\n",
    "print(\"5 % 4 =\", 5 % 4)  # Remainder: Output 1\n",
    "print(\"abs(-5) =\", abs(-5))  # Absolute value: Output 5\n",
    "print(\"int(3.14) =\", int(3.14))  # Convert to integer: Output 3\n",
    "print(\"float(5) =\", float(5))  # Convert to float: Output 5.0\n",
    "\n",
    "# Complex number and conjugate\n",
    "c = complex(1, 3)\n",
    "print(\"Complex number:\", c)  # Output: (1+3j)\n",
    "print(\"Conjugate:\", c.conjugate())  # Output: (1-3j)\n",
    "\n",
    "# Power and divmod operations\n",
    "print(\"2^3 =\", pow(2, 3))  # Power: Output 2^3 = 8\n",
    "print(\"2^3 =\", 2 ** 3)  # Power (alternative syntax): Output 2^3 = 8\n",
    "print(\"divmod(12, 5) =\", divmod(12, 5))  # Output: (2, 2)\n"
   ]
  },
  {
   "cell_type": "raw",
   "metadata": {
    "id": "mOEFBP9AdE4N"
   },
   "source": [
    "### Comparisons\n",
    "\n",
    "Python allows you to compare values using comparison operators like `>`, `<`, `>=`, `<=`, and `!=`. These comparisons are often used in conditional statements.\n"
   ]
  },
  {
   "cell_type": "code",
   "execution_count": null,
   "metadata": {
    "colab": {
     "base_uri": "https://localhost:8080/"
    },
    "id": "H2fBQY-A6jL0",
    "outputId": "6bbb4372-52e3-4cfb-a289-ef32aec7eb72"
   },
   "outputs": [
    {
     "name": "stdout",
     "output_type": "stream",
     "text": [
      "b is between a and c\n"
     ]
    }
   ],
   "source": [
    "# Comparisons\n",
    "a = 1\n",
    "b = 2\n",
    "c = 3\n",
    "if b >= a and b <= c:\n",
    "  print('b is between a and c')  # Output: b is between a and c\n"
   ]
  },
  {
   "cell_type": "markdown",
   "metadata": {
    "id": "rO5hhP6R6nEw"
   },
   "source": [
    "You can also combine logical conditions using `and`, `or`, and `not` operators but I do not recommend.\n",
    "\n",
    "### Floating Point\n",
    "\n",
    "Floating-point numbers are used to represent real numbers that include decimal points. They can be written using decimal notation or exponential notation.\n"
   ]
  },
  {
   "cell_type": "code",
   "execution_count": null,
   "metadata": {
    "id": "8Zc6q0E86pXe"
   },
   "outputs": [],
   "source": [
    "# Floating point\n",
    "a = 37.5\n",
    "b = 4e5  # Exponential notation (equivalent to 400000.0)\n",
    "c = 1.34e-10\n",
    "print('a =', a)  # Output: a = 37.5\n",
    "print('b =', b)  # Output: b = 400000.0\n",
    "print('c =', c)  # Output: c = 1.34e-10\n"
   ]
  },
  {
   "cell_type": "markdown",
   "metadata": {
    "id": "rJSWUOl-6rOh"
   },
   "source": [
    "Floating-point numbers are not always exact, due to the way they are stored in memory."
   ]
  },
  {
   "cell_type": "code",
   "execution_count": null,
   "metadata": {
    "id": "Ebyr-Eg66zMj"
   },
   "outputs": [],
   "source": [
    "# Floating point precision\n",
    "a = 2.1 + 4.1\n",
    "print(a == 6.3)  # Output: False\n",
    "print(a)  # Output: 6.300000000000001\n"
   ]
  },
  {
   "cell_type": "markdown",
   "metadata": {
    "id": "uNlerEJs62se"
   },
   "source": [
    "Python provides many functions in the `math` module to work with floating-point numbers, including square roots, trigonometric functions, and logarithms."
   ]
  },
  {
   "cell_type": "code",
   "execution_count": null,
   "metadata": {
    "id": "V7I7aTy264Os"
   },
   "outputs": [],
   "source": [
    "# import math\n",
    "\n",
    "x = 4\n",
    "print(math.sqrt(x))  # Square root: Output 2.0\n",
    "print(math.sin(x))  # Sine of x: Output -0.7568024953079282\n",
    "print(math.log(2))  # Natural log of 2: Output 0.6931471805599453\n"
   ]
  },
  {
   "cell_type": "markdown",
   "metadata": {
    "id": "RRDNbdAm69rN"
   },
   "source": [
    "### Type Conversion\n",
    "\n",
    "Python allows you to convert between different types of numbers using built-in functions like `int()`, `float()`, and `complex()`.\n"
   ]
  },
  {
   "cell_type": "code",
   "execution_count": null,
   "metadata": {
    "id": "z0ytS4Vi7N5U"
   },
   "outputs": [],
   "source": [
    "# Type conversion\n",
    "x = 5.0\n",
    "print(x)  # Output: 5.0\n",
    "print(type(x))  # Output: <class 'float'>\n",
    "\n",
    "a = int(x)  # Convert to integer\n",
    "print(a)  # Output: 5\n",
    "print(type(a))  # Output: <class 'int'>\n",
    "\n",
    "b = float(a)  # Convert back to float\n",
    "print(b)  # Output: 5.0\n",
    "print(type(b))  # Output: <class 'float'>\n",
    "\n",
    "pi = '3.141519'\n",
    "a = float(pi)  # Convert string to float\n",
    "print(a)  # Output: 3.141519\n",
    "print(type(a))  # Output: <class 'float'>\n"
   ]
  },
  {
   "cell_type": "code",
   "execution_count": null,
   "metadata": {
    "id": "gAcmOhw5LqmD"
   },
   "outputs": [],
   "source": [
    "print"
   ]
  },
  {
   "cell_type": "markdown",
   "metadata": {
    "id": "EF8FYUHy7NEN"
   },
   "source": []
  }
 ],
 "metadata": {
  "colab": {
   "provenance": []
  },
  "kernelspec": {
   "display_name": "Python (DSCI 401)",
   "language": "python",
   "name": "dsci401"
  },
  "language_info": {
   "codemirror_mode": {
    "name": "ipython",
    "version": 3
   },
   "file_extension": ".py",
   "mimetype": "text/x-python",
   "name": "python",
   "nbconvert_exporter": "python",
   "pygments_lexer": "ipython3",
   "version": "3.9.6"
  }
 },
 "nbformat": 4,
 "nbformat_minor": 4
}
